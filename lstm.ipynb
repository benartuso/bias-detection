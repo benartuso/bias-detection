{
  "nbformat": 4,
  "nbformat_minor": 0,
  "metadata": {
    "accelerator": "GPU",
    "colab": {
      "name": "lstm.ipynb",
      "provenance": [],
      "collapsed_sections": []
    },
    "kernelspec": {
      "display_name": "Python 3",
      "language": "python",
      "name": "python3"
    },
    "language_info": {
      "codemirror_mode": {
        "name": "ipython",
        "version": 3
      },
      "file_extension": ".py",
      "mimetype": "text/x-python",
      "name": "python",
      "nbconvert_exporter": "python",
      "pygments_lexer": "ipython3",
      "version": "3.7.1"
    },
    "widgets": {
      "application/vnd.jupyter.widget-state+json": {
        "ff69eb7768fa439e997c35235c52d903": {
          "model_module": "@jupyter-widgets/controls",
          "model_name": "HBoxModel",
          "state": {
            "_view_name": "HBoxView",
            "_dom_classes": [],
            "_model_name": "HBoxModel",
            "_view_module": "@jupyter-widgets/controls",
            "_model_module_version": "1.5.0",
            "_view_count": null,
            "_view_module_version": "1.5.0",
            "box_style": "",
            "layout": "IPY_MODEL_ac148fb53dd941ec97b52a95ac9c975d",
            "_model_module": "@jupyter-widgets/controls",
            "children": [
              "IPY_MODEL_51c6de10880b4e90b127fdb712e07584",
              "IPY_MODEL_b918a4e8ab6a436a8bfb52e896a4c56b"
            ]
          }
        },
        "ac148fb53dd941ec97b52a95ac9c975d": {
          "model_module": "@jupyter-widgets/base",
          "model_name": "LayoutModel",
          "state": {
            "_view_name": "LayoutView",
            "grid_template_rows": null,
            "right": null,
            "justify_content": null,
            "_view_module": "@jupyter-widgets/base",
            "overflow": null,
            "_model_module_version": "1.2.0",
            "_view_count": null,
            "flex_flow": null,
            "width": null,
            "min_width": null,
            "border": null,
            "align_items": null,
            "bottom": null,
            "_model_module": "@jupyter-widgets/base",
            "top": null,
            "grid_column": null,
            "overflow_y": null,
            "overflow_x": null,
            "grid_auto_flow": null,
            "grid_area": null,
            "grid_template_columns": null,
            "flex": null,
            "_model_name": "LayoutModel",
            "justify_items": null,
            "grid_row": null,
            "max_height": null,
            "align_content": null,
            "visibility": null,
            "align_self": null,
            "height": null,
            "min_height": null,
            "padding": null,
            "grid_auto_rows": null,
            "grid_gap": null,
            "max_width": null,
            "order": null,
            "_view_module_version": "1.2.0",
            "grid_template_areas": null,
            "object_position": null,
            "object_fit": null,
            "grid_auto_columns": null,
            "margin": null,
            "display": null,
            "left": null
          }
        },
        "51c6de10880b4e90b127fdb712e07584": {
          "model_module": "@jupyter-widgets/controls",
          "model_name": "FloatProgressModel",
          "state": {
            "_view_name": "ProgressView",
            "style": "IPY_MODEL_49da524e21bb453eb7b942f5c28c93cc",
            "_dom_classes": [],
            "description": " 60%",
            "_model_name": "FloatProgressModel",
            "bar_style": "",
            "max": 5,
            "_view_module": "@jupyter-widgets/controls",
            "_model_module_version": "1.5.0",
            "value": 3,
            "_view_count": null,
            "_view_module_version": "1.5.0",
            "orientation": "horizontal",
            "min": 0,
            "description_tooltip": null,
            "_model_module": "@jupyter-widgets/controls",
            "layout": "IPY_MODEL_201fada1efc04d0385bf1f893bd65ade"
          }
        },
        "b918a4e8ab6a436a8bfb52e896a4c56b": {
          "model_module": "@jupyter-widgets/controls",
          "model_name": "HTMLModel",
          "state": {
            "_view_name": "HTMLView",
            "style": "IPY_MODEL_8106479caf2c443a8172994768629bd6",
            "_dom_classes": [],
            "description": "",
            "_model_name": "HTMLModel",
            "placeholder": "​",
            "_view_module": "@jupyter-widgets/controls",
            "_model_module_version": "1.5.0",
            "value": " 3/5 [06:35&lt;04:23, 131.76s/it]",
            "_view_count": null,
            "_view_module_version": "1.5.0",
            "description_tooltip": null,
            "_model_module": "@jupyter-widgets/controls",
            "layout": "IPY_MODEL_edf34d55ce7d46b99a10eddfcda8bab3"
          }
        },
        "49da524e21bb453eb7b942f5c28c93cc": {
          "model_module": "@jupyter-widgets/controls",
          "model_name": "ProgressStyleModel",
          "state": {
            "_view_name": "StyleView",
            "_model_name": "ProgressStyleModel",
            "description_width": "initial",
            "_view_module": "@jupyter-widgets/base",
            "_model_module_version": "1.5.0",
            "_view_count": null,
            "_view_module_version": "1.2.0",
            "bar_color": null,
            "_model_module": "@jupyter-widgets/controls"
          }
        },
        "201fada1efc04d0385bf1f893bd65ade": {
          "model_module": "@jupyter-widgets/base",
          "model_name": "LayoutModel",
          "state": {
            "_view_name": "LayoutView",
            "grid_template_rows": null,
            "right": null,
            "justify_content": null,
            "_view_module": "@jupyter-widgets/base",
            "overflow": null,
            "_model_module_version": "1.2.0",
            "_view_count": null,
            "flex_flow": null,
            "width": null,
            "min_width": null,
            "border": null,
            "align_items": null,
            "bottom": null,
            "_model_module": "@jupyter-widgets/base",
            "top": null,
            "grid_column": null,
            "overflow_y": null,
            "overflow_x": null,
            "grid_auto_flow": null,
            "grid_area": null,
            "grid_template_columns": null,
            "flex": null,
            "_model_name": "LayoutModel",
            "justify_items": null,
            "grid_row": null,
            "max_height": null,
            "align_content": null,
            "visibility": null,
            "align_self": null,
            "height": null,
            "min_height": null,
            "padding": null,
            "grid_auto_rows": null,
            "grid_gap": null,
            "max_width": null,
            "order": null,
            "_view_module_version": "1.2.0",
            "grid_template_areas": null,
            "object_position": null,
            "object_fit": null,
            "grid_auto_columns": null,
            "margin": null,
            "display": null,
            "left": null
          }
        },
        "8106479caf2c443a8172994768629bd6": {
          "model_module": "@jupyter-widgets/controls",
          "model_name": "DescriptionStyleModel",
          "state": {
            "_view_name": "StyleView",
            "_model_name": "DescriptionStyleModel",
            "description_width": "",
            "_view_module": "@jupyter-widgets/base",
            "_model_module_version": "1.5.0",
            "_view_count": null,
            "_view_module_version": "1.2.0",
            "_model_module": "@jupyter-widgets/controls"
          }
        },
        "edf34d55ce7d46b99a10eddfcda8bab3": {
          "model_module": "@jupyter-widgets/base",
          "model_name": "LayoutModel",
          "state": {
            "_view_name": "LayoutView",
            "grid_template_rows": null,
            "right": null,
            "justify_content": null,
            "_view_module": "@jupyter-widgets/base",
            "overflow": null,
            "_model_module_version": "1.2.0",
            "_view_count": null,
            "flex_flow": null,
            "width": null,
            "min_width": null,
            "border": null,
            "align_items": null,
            "bottom": null,
            "_model_module": "@jupyter-widgets/base",
            "top": null,
            "grid_column": null,
            "overflow_y": null,
            "overflow_x": null,
            "grid_auto_flow": null,
            "grid_area": null,
            "grid_template_columns": null,
            "flex": null,
            "_model_name": "LayoutModel",
            "justify_items": null,
            "grid_row": null,
            "max_height": null,
            "align_content": null,
            "visibility": null,
            "align_self": null,
            "height": null,
            "min_height": null,
            "padding": null,
            "grid_auto_rows": null,
            "grid_gap": null,
            "max_width": null,
            "order": null,
            "_view_module_version": "1.2.0",
            "grid_template_areas": null,
            "object_position": null,
            "object_fit": null,
            "grid_auto_columns": null,
            "margin": null,
            "display": null,
            "left": null
          }
        },
        "eb2a740a820f49588836e50ff95a2a74": {
          "model_module": "@jupyter-widgets/controls",
          "model_name": "HBoxModel",
          "state": {
            "_view_name": "HBoxView",
            "_dom_classes": [],
            "_model_name": "HBoxModel",
            "_view_module": "@jupyter-widgets/controls",
            "_model_module_version": "1.5.0",
            "_view_count": null,
            "_view_module_version": "1.5.0",
            "box_style": "",
            "layout": "IPY_MODEL_1253a09883a94d1d8116369f275a5eda",
            "_model_module": "@jupyter-widgets/controls",
            "children": [
              "IPY_MODEL_2a5f5fd0f13f4414a6d78ab4a70d37e8",
              "IPY_MODEL_6ca6417651464f8b87289538a139f431"
            ]
          }
        },
        "1253a09883a94d1d8116369f275a5eda": {
          "model_module": "@jupyter-widgets/base",
          "model_name": "LayoutModel",
          "state": {
            "_view_name": "LayoutView",
            "grid_template_rows": null,
            "right": null,
            "justify_content": null,
            "_view_module": "@jupyter-widgets/base",
            "overflow": null,
            "_model_module_version": "1.2.0",
            "_view_count": null,
            "flex_flow": null,
            "width": null,
            "min_width": null,
            "border": null,
            "align_items": null,
            "bottom": null,
            "_model_module": "@jupyter-widgets/base",
            "top": null,
            "grid_column": null,
            "overflow_y": null,
            "overflow_x": null,
            "grid_auto_flow": null,
            "grid_area": null,
            "grid_template_columns": null,
            "flex": null,
            "_model_name": "LayoutModel",
            "justify_items": null,
            "grid_row": null,
            "max_height": null,
            "align_content": null,
            "visibility": null,
            "align_self": null,
            "height": null,
            "min_height": null,
            "padding": null,
            "grid_auto_rows": null,
            "grid_gap": null,
            "max_width": null,
            "order": null,
            "_view_module_version": "1.2.0",
            "grid_template_areas": null,
            "object_position": null,
            "object_fit": null,
            "grid_auto_columns": null,
            "margin": null,
            "display": null,
            "left": null
          }
        },
        "2a5f5fd0f13f4414a6d78ab4a70d37e8": {
          "model_module": "@jupyter-widgets/controls",
          "model_name": "FloatProgressModel",
          "state": {
            "_view_name": "ProgressView",
            "style": "IPY_MODEL_531e6362fc7e4892a01be93e12d3a140",
            "_dom_classes": [],
            "description": "",
            "_model_name": "FloatProgressModel",
            "bar_style": "success",
            "max": 1,
            "_view_module": "@jupyter-widgets/controls",
            "_model_module_version": "1.5.0",
            "value": 1,
            "_view_count": null,
            "_view_module_version": "1.5.0",
            "orientation": "horizontal",
            "min": 0,
            "description_tooltip": null,
            "_model_module": "@jupyter-widgets/controls",
            "layout": "IPY_MODEL_2521f092353b418ca5bcc67563460ec2"
          }
        },
        "6ca6417651464f8b87289538a139f431": {
          "model_module": "@jupyter-widgets/controls",
          "model_name": "HTMLModel",
          "state": {
            "_view_name": "HTMLView",
            "style": "IPY_MODEL_b77c077d223f43ff8c854dd108a36ac5",
            "_dom_classes": [],
            "description": "",
            "_model_name": "HTMLModel",
            "placeholder": "​",
            "_view_module": "@jupyter-widgets/controls",
            "_model_module_version": "1.5.0",
            "value": " 19282/? [04:24&lt;00:00, 72.84it/s]",
            "_view_count": null,
            "_view_module_version": "1.5.0",
            "description_tooltip": null,
            "_model_module": "@jupyter-widgets/controls",
            "layout": "IPY_MODEL_14e2455814b447c48fc3caa4ed48b37e"
          }
        },
        "531e6362fc7e4892a01be93e12d3a140": {
          "model_module": "@jupyter-widgets/controls",
          "model_name": "ProgressStyleModel",
          "state": {
            "_view_name": "StyleView",
            "_model_name": "ProgressStyleModel",
            "description_width": "initial",
            "_view_module": "@jupyter-widgets/base",
            "_model_module_version": "1.5.0",
            "_view_count": null,
            "_view_module_version": "1.2.0",
            "bar_color": null,
            "_model_module": "@jupyter-widgets/controls"
          }
        },
        "2521f092353b418ca5bcc67563460ec2": {
          "model_module": "@jupyter-widgets/base",
          "model_name": "LayoutModel",
          "state": {
            "_view_name": "LayoutView",
            "grid_template_rows": null,
            "right": null,
            "justify_content": null,
            "_view_module": "@jupyter-widgets/base",
            "overflow": null,
            "_model_module_version": "1.2.0",
            "_view_count": null,
            "flex_flow": null,
            "width": null,
            "min_width": null,
            "border": null,
            "align_items": null,
            "bottom": null,
            "_model_module": "@jupyter-widgets/base",
            "top": null,
            "grid_column": null,
            "overflow_y": null,
            "overflow_x": null,
            "grid_auto_flow": null,
            "grid_area": null,
            "grid_template_columns": null,
            "flex": null,
            "_model_name": "LayoutModel",
            "justify_items": null,
            "grid_row": null,
            "max_height": null,
            "align_content": null,
            "visibility": null,
            "align_self": null,
            "height": null,
            "min_height": null,
            "padding": null,
            "grid_auto_rows": null,
            "grid_gap": null,
            "max_width": null,
            "order": null,
            "_view_module_version": "1.2.0",
            "grid_template_areas": null,
            "object_position": null,
            "object_fit": null,
            "grid_auto_columns": null,
            "margin": null,
            "display": null,
            "left": null
          }
        },
        "b77c077d223f43ff8c854dd108a36ac5": {
          "model_module": "@jupyter-widgets/controls",
          "model_name": "DescriptionStyleModel",
          "state": {
            "_view_name": "StyleView",
            "_model_name": "DescriptionStyleModel",
            "description_width": "",
            "_view_module": "@jupyter-widgets/base",
            "_model_module_version": "1.5.0",
            "_view_count": null,
            "_view_module_version": "1.2.0",
            "_model_module": "@jupyter-widgets/controls"
          }
        },
        "14e2455814b447c48fc3caa4ed48b37e": {
          "model_module": "@jupyter-widgets/base",
          "model_name": "LayoutModel",
          "state": {
            "_view_name": "LayoutView",
            "grid_template_rows": null,
            "right": null,
            "justify_content": null,
            "_view_module": "@jupyter-widgets/base",
            "overflow": null,
            "_model_module_version": "1.2.0",
            "_view_count": null,
            "flex_flow": null,
            "width": null,
            "min_width": null,
            "border": null,
            "align_items": null,
            "bottom": null,
            "_model_module": "@jupyter-widgets/base",
            "top": null,
            "grid_column": null,
            "overflow_y": null,
            "overflow_x": null,
            "grid_auto_flow": null,
            "grid_area": null,
            "grid_template_columns": null,
            "flex": null,
            "_model_name": "LayoutModel",
            "justify_items": null,
            "grid_row": null,
            "max_height": null,
            "align_content": null,
            "visibility": null,
            "align_self": null,
            "height": null,
            "min_height": null,
            "padding": null,
            "grid_auto_rows": null,
            "grid_gap": null,
            "max_width": null,
            "order": null,
            "_view_module_version": "1.2.0",
            "grid_template_areas": null,
            "object_position": null,
            "object_fit": null,
            "grid_auto_columns": null,
            "margin": null,
            "display": null,
            "left": null
          }
        },
        "5ed1ad6ead5d42c5802e4efdf51c242e": {
          "model_module": "@jupyter-widgets/controls",
          "model_name": "HBoxModel",
          "state": {
            "_view_name": "HBoxView",
            "_dom_classes": [],
            "_model_name": "HBoxModel",
            "_view_module": "@jupyter-widgets/controls",
            "_model_module_version": "1.5.0",
            "_view_count": null,
            "_view_module_version": "1.5.0",
            "box_style": "",
            "layout": "IPY_MODEL_6f6bdc36af9b4bf78b3528c18497fcac",
            "_model_module": "@jupyter-widgets/controls",
            "children": [
              "IPY_MODEL_b618775e739b41509c396fbdddba5149",
              "IPY_MODEL_a13123a1267b4106a2acdd5672639349"
            ]
          }
        },
        "6f6bdc36af9b4bf78b3528c18497fcac": {
          "model_module": "@jupyter-widgets/base",
          "model_name": "LayoutModel",
          "state": {
            "_view_name": "LayoutView",
            "grid_template_rows": null,
            "right": null,
            "justify_content": null,
            "_view_module": "@jupyter-widgets/base",
            "overflow": null,
            "_model_module_version": "1.2.0",
            "_view_count": null,
            "flex_flow": null,
            "width": null,
            "min_width": null,
            "border": null,
            "align_items": null,
            "bottom": null,
            "_model_module": "@jupyter-widgets/base",
            "top": null,
            "grid_column": null,
            "overflow_y": null,
            "overflow_x": null,
            "grid_auto_flow": null,
            "grid_area": null,
            "grid_template_columns": null,
            "flex": null,
            "_model_name": "LayoutModel",
            "justify_items": null,
            "grid_row": null,
            "max_height": null,
            "align_content": null,
            "visibility": null,
            "align_self": null,
            "height": null,
            "min_height": null,
            "padding": null,
            "grid_auto_rows": null,
            "grid_gap": null,
            "max_width": null,
            "order": null,
            "_view_module_version": "1.2.0",
            "grid_template_areas": null,
            "object_position": null,
            "object_fit": null,
            "grid_auto_columns": null,
            "margin": null,
            "display": null,
            "left": null
          }
        },
        "b618775e739b41509c396fbdddba5149": {
          "model_module": "@jupyter-widgets/controls",
          "model_name": "FloatProgressModel",
          "state": {
            "_view_name": "ProgressView",
            "style": "IPY_MODEL_7a56f7a6b5bd49149b7c089057065d50",
            "_dom_classes": [],
            "description": "",
            "_model_name": "FloatProgressModel",
            "bar_style": "success",
            "max": 1,
            "_view_module": "@jupyter-widgets/controls",
            "_model_module_version": "1.5.0",
            "value": 1,
            "_view_count": null,
            "_view_module_version": "1.5.0",
            "orientation": "horizontal",
            "min": 0,
            "description_tooltip": null,
            "_model_module": "@jupyter-widgets/controls",
            "layout": "IPY_MODEL_01b4c2c5354042448dfe8470b4f73073"
          }
        },
        "a13123a1267b4106a2acdd5672639349": {
          "model_module": "@jupyter-widgets/controls",
          "model_name": "HTMLModel",
          "state": {
            "_view_name": "HTMLView",
            "style": "IPY_MODEL_77ee0f572a8c4ac084b6c8e62a56be5f",
            "_dom_classes": [],
            "description": "",
            "_model_name": "HTMLModel",
            "placeholder": "​",
            "_view_module": "@jupyter-widgets/controls",
            "_model_module_version": "1.5.0",
            "value": " 19282/? [02:12&lt;00:00, 145.50it/s]",
            "_view_count": null,
            "_view_module_version": "1.5.0",
            "description_tooltip": null,
            "_model_module": "@jupyter-widgets/controls",
            "layout": "IPY_MODEL_4d2e2ba3bd94429a97275c173af606a9"
          }
        },
        "7a56f7a6b5bd49149b7c089057065d50": {
          "model_module": "@jupyter-widgets/controls",
          "model_name": "ProgressStyleModel",
          "state": {
            "_view_name": "StyleView",
            "_model_name": "ProgressStyleModel",
            "description_width": "initial",
            "_view_module": "@jupyter-widgets/base",
            "_model_module_version": "1.5.0",
            "_view_count": null,
            "_view_module_version": "1.2.0",
            "bar_color": null,
            "_model_module": "@jupyter-widgets/controls"
          }
        },
        "01b4c2c5354042448dfe8470b4f73073": {
          "model_module": "@jupyter-widgets/base",
          "model_name": "LayoutModel",
          "state": {
            "_view_name": "LayoutView",
            "grid_template_rows": null,
            "right": null,
            "justify_content": null,
            "_view_module": "@jupyter-widgets/base",
            "overflow": null,
            "_model_module_version": "1.2.0",
            "_view_count": null,
            "flex_flow": null,
            "width": null,
            "min_width": null,
            "border": null,
            "align_items": null,
            "bottom": null,
            "_model_module": "@jupyter-widgets/base",
            "top": null,
            "grid_column": null,
            "overflow_y": null,
            "overflow_x": null,
            "grid_auto_flow": null,
            "grid_area": null,
            "grid_template_columns": null,
            "flex": null,
            "_model_name": "LayoutModel",
            "justify_items": null,
            "grid_row": null,
            "max_height": null,
            "align_content": null,
            "visibility": null,
            "align_self": null,
            "height": null,
            "min_height": null,
            "padding": null,
            "grid_auto_rows": null,
            "grid_gap": null,
            "max_width": null,
            "order": null,
            "_view_module_version": "1.2.0",
            "grid_template_areas": null,
            "object_position": null,
            "object_fit": null,
            "grid_auto_columns": null,
            "margin": null,
            "display": null,
            "left": null
          }
        },
        "77ee0f572a8c4ac084b6c8e62a56be5f": {
          "model_module": "@jupyter-widgets/controls",
          "model_name": "DescriptionStyleModel",
          "state": {
            "_view_name": "StyleView",
            "_model_name": "DescriptionStyleModel",
            "description_width": "",
            "_view_module": "@jupyter-widgets/base",
            "_model_module_version": "1.5.0",
            "_view_count": null,
            "_view_module_version": "1.2.0",
            "_model_module": "@jupyter-widgets/controls"
          }
        },
        "4d2e2ba3bd94429a97275c173af606a9": {
          "model_module": "@jupyter-widgets/base",
          "model_name": "LayoutModel",
          "state": {
            "_view_name": "LayoutView",
            "grid_template_rows": null,
            "right": null,
            "justify_content": null,
            "_view_module": "@jupyter-widgets/base",
            "overflow": null,
            "_model_module_version": "1.2.0",
            "_view_count": null,
            "flex_flow": null,
            "width": null,
            "min_width": null,
            "border": null,
            "align_items": null,
            "bottom": null,
            "_model_module": "@jupyter-widgets/base",
            "top": null,
            "grid_column": null,
            "overflow_y": null,
            "overflow_x": null,
            "grid_auto_flow": null,
            "grid_area": null,
            "grid_template_columns": null,
            "flex": null,
            "_model_name": "LayoutModel",
            "justify_items": null,
            "grid_row": null,
            "max_height": null,
            "align_content": null,
            "visibility": null,
            "align_self": null,
            "height": null,
            "min_height": null,
            "padding": null,
            "grid_auto_rows": null,
            "grid_gap": null,
            "max_width": null,
            "order": null,
            "_view_module_version": "1.2.0",
            "grid_template_areas": null,
            "object_position": null,
            "object_fit": null,
            "grid_auto_columns": null,
            "margin": null,
            "display": null,
            "left": null
          }
        },
        "cd9d8d05bacf4b118e2f4d1d94c05f65": {
          "model_module": "@jupyter-widgets/controls",
          "model_name": "HBoxModel",
          "state": {
            "_view_name": "HBoxView",
            "_dom_classes": [],
            "_model_name": "HBoxModel",
            "_view_module": "@jupyter-widgets/controls",
            "_model_module_version": "1.5.0",
            "_view_count": null,
            "_view_module_version": "1.5.0",
            "box_style": "",
            "layout": "IPY_MODEL_f4abea6c0bc64836baac32cff234098f",
            "_model_module": "@jupyter-widgets/controls",
            "children": [
              "IPY_MODEL_40e66f936f8c4b95b32da145652f1f8d",
              "IPY_MODEL_0f6e06b2120040648ab9975a241f5ac5"
            ]
          }
        },
        "f4abea6c0bc64836baac32cff234098f": {
          "model_module": "@jupyter-widgets/base",
          "model_name": "LayoutModel",
          "state": {
            "_view_name": "LayoutView",
            "grid_template_rows": null,
            "right": null,
            "justify_content": null,
            "_view_module": "@jupyter-widgets/base",
            "overflow": null,
            "_model_module_version": "1.2.0",
            "_view_count": null,
            "flex_flow": null,
            "width": null,
            "min_width": null,
            "border": null,
            "align_items": null,
            "bottom": null,
            "_model_module": "@jupyter-widgets/base",
            "top": null,
            "grid_column": null,
            "overflow_y": null,
            "overflow_x": null,
            "grid_auto_flow": null,
            "grid_area": null,
            "grid_template_columns": null,
            "flex": null,
            "_model_name": "LayoutModel",
            "justify_items": null,
            "grid_row": null,
            "max_height": null,
            "align_content": null,
            "visibility": null,
            "align_self": null,
            "height": null,
            "min_height": null,
            "padding": null,
            "grid_auto_rows": null,
            "grid_gap": null,
            "max_width": null,
            "order": null,
            "_view_module_version": "1.2.0",
            "grid_template_areas": null,
            "object_position": null,
            "object_fit": null,
            "grid_auto_columns": null,
            "margin": null,
            "display": null,
            "left": null
          }
        },
        "40e66f936f8c4b95b32da145652f1f8d": {
          "model_module": "@jupyter-widgets/controls",
          "model_name": "FloatProgressModel",
          "state": {
            "_view_name": "ProgressView",
            "style": "IPY_MODEL_0c4595a6deb9481aa0c2712dce062133",
            "_dom_classes": [],
            "description": "",
            "_model_name": "FloatProgressModel",
            "bar_style": "success",
            "max": 1,
            "_view_module": "@jupyter-widgets/controls",
            "_model_module_version": "1.5.0",
            "value": 1,
            "_view_count": null,
            "_view_module_version": "1.5.0",
            "orientation": "horizontal",
            "min": 0,
            "description_tooltip": null,
            "_model_module": "@jupyter-widgets/controls",
            "layout": "IPY_MODEL_bde0664355594767b8bb786feaf97250"
          }
        },
        "0f6e06b2120040648ab9975a241f5ac5": {
          "model_module": "@jupyter-widgets/controls",
          "model_name": "HTMLModel",
          "state": {
            "_view_name": "HTMLView",
            "style": "IPY_MODEL_73efc79d5a0d473497c9c6d200ab6617",
            "_dom_classes": [],
            "description": "",
            "_model_name": "HTMLModel",
            "placeholder": "​",
            "_view_module": "@jupyter-widgets/controls",
            "_model_module_version": "1.5.0",
            "value": " 19282/? [02:10&lt;00:00, 147.72it/s]",
            "_view_count": null,
            "_view_module_version": "1.5.0",
            "description_tooltip": null,
            "_model_module": "@jupyter-widgets/controls",
            "layout": "IPY_MODEL_6fca7ebe9d7540c187689a8b81b6d86b"
          }
        },
        "0c4595a6deb9481aa0c2712dce062133": {
          "model_module": "@jupyter-widgets/controls",
          "model_name": "ProgressStyleModel",
          "state": {
            "_view_name": "StyleView",
            "_model_name": "ProgressStyleModel",
            "description_width": "initial",
            "_view_module": "@jupyter-widgets/base",
            "_model_module_version": "1.5.0",
            "_view_count": null,
            "_view_module_version": "1.2.0",
            "bar_color": null,
            "_model_module": "@jupyter-widgets/controls"
          }
        },
        "bde0664355594767b8bb786feaf97250": {
          "model_module": "@jupyter-widgets/base",
          "model_name": "LayoutModel",
          "state": {
            "_view_name": "LayoutView",
            "grid_template_rows": null,
            "right": null,
            "justify_content": null,
            "_view_module": "@jupyter-widgets/base",
            "overflow": null,
            "_model_module_version": "1.2.0",
            "_view_count": null,
            "flex_flow": null,
            "width": null,
            "min_width": null,
            "border": null,
            "align_items": null,
            "bottom": null,
            "_model_module": "@jupyter-widgets/base",
            "top": null,
            "grid_column": null,
            "overflow_y": null,
            "overflow_x": null,
            "grid_auto_flow": null,
            "grid_area": null,
            "grid_template_columns": null,
            "flex": null,
            "_model_name": "LayoutModel",
            "justify_items": null,
            "grid_row": null,
            "max_height": null,
            "align_content": null,
            "visibility": null,
            "align_self": null,
            "height": null,
            "min_height": null,
            "padding": null,
            "grid_auto_rows": null,
            "grid_gap": null,
            "max_width": null,
            "order": null,
            "_view_module_version": "1.2.0",
            "grid_template_areas": null,
            "object_position": null,
            "object_fit": null,
            "grid_auto_columns": null,
            "margin": null,
            "display": null,
            "left": null
          }
        },
        "73efc79d5a0d473497c9c6d200ab6617": {
          "model_module": "@jupyter-widgets/controls",
          "model_name": "DescriptionStyleModel",
          "state": {
            "_view_name": "StyleView",
            "_model_name": "DescriptionStyleModel",
            "description_width": "",
            "_view_module": "@jupyter-widgets/base",
            "_model_module_version": "1.5.0",
            "_view_count": null,
            "_view_module_version": "1.2.0",
            "_model_module": "@jupyter-widgets/controls"
          }
        },
        "6fca7ebe9d7540c187689a8b81b6d86b": {
          "model_module": "@jupyter-widgets/base",
          "model_name": "LayoutModel",
          "state": {
            "_view_name": "LayoutView",
            "grid_template_rows": null,
            "right": null,
            "justify_content": null,
            "_view_module": "@jupyter-widgets/base",
            "overflow": null,
            "_model_module_version": "1.2.0",
            "_view_count": null,
            "flex_flow": null,
            "width": null,
            "min_width": null,
            "border": null,
            "align_items": null,
            "bottom": null,
            "_model_module": "@jupyter-widgets/base",
            "top": null,
            "grid_column": null,
            "overflow_y": null,
            "overflow_x": null,
            "grid_auto_flow": null,
            "grid_area": null,
            "grid_template_columns": null,
            "flex": null,
            "_model_name": "LayoutModel",
            "justify_items": null,
            "grid_row": null,
            "max_height": null,
            "align_content": null,
            "visibility": null,
            "align_self": null,
            "height": null,
            "min_height": null,
            "padding": null,
            "grid_auto_rows": null,
            "grid_gap": null,
            "max_width": null,
            "order": null,
            "_view_module_version": "1.2.0",
            "grid_template_areas": null,
            "object_position": null,
            "object_fit": null,
            "grid_auto_columns": null,
            "margin": null,
            "display": null,
            "left": null
          }
        },
        "5a6edd4dc19a4b2283e11eff04e77211": {
          "model_module": "@jupyter-widgets/controls",
          "model_name": "HBoxModel",
          "state": {
            "_view_name": "HBoxView",
            "_dom_classes": [],
            "_model_name": "HBoxModel",
            "_view_module": "@jupyter-widgets/controls",
            "_model_module_version": "1.5.0",
            "_view_count": null,
            "_view_module_version": "1.5.0",
            "box_style": "",
            "layout": "IPY_MODEL_4caca33bc2b74d43a6cf76a09596080d",
            "_model_module": "@jupyter-widgets/controls",
            "children": [
              "IPY_MODEL_3d1ac21788114aeca5ed9d10165a7aaa",
              "IPY_MODEL_1fc638969fa44393916c3ba53ae7a962"
            ]
          }
        },
        "4caca33bc2b74d43a6cf76a09596080d": {
          "model_module": "@jupyter-widgets/base",
          "model_name": "LayoutModel",
          "state": {
            "_view_name": "LayoutView",
            "grid_template_rows": null,
            "right": null,
            "justify_content": null,
            "_view_module": "@jupyter-widgets/base",
            "overflow": null,
            "_model_module_version": "1.2.0",
            "_view_count": null,
            "flex_flow": null,
            "width": null,
            "min_width": null,
            "border": null,
            "align_items": null,
            "bottom": null,
            "_model_module": "@jupyter-widgets/base",
            "top": null,
            "grid_column": null,
            "overflow_y": null,
            "overflow_x": null,
            "grid_auto_flow": null,
            "grid_area": null,
            "grid_template_columns": null,
            "flex": null,
            "_model_name": "LayoutModel",
            "justify_items": null,
            "grid_row": null,
            "max_height": null,
            "align_content": null,
            "visibility": null,
            "align_self": null,
            "height": null,
            "min_height": null,
            "padding": null,
            "grid_auto_rows": null,
            "grid_gap": null,
            "max_width": null,
            "order": null,
            "_view_module_version": "1.2.0",
            "grid_template_areas": null,
            "object_position": null,
            "object_fit": null,
            "grid_auto_columns": null,
            "margin": null,
            "display": null,
            "left": null
          }
        },
        "3d1ac21788114aeca5ed9d10165a7aaa": {
          "model_module": "@jupyter-widgets/controls",
          "model_name": "FloatProgressModel",
          "state": {
            "_view_name": "ProgressView",
            "style": "IPY_MODEL_d0c684efe8224d36967c4fa8a9787198",
            "_dom_classes": [],
            "description": "",
            "_model_name": "FloatProgressModel",
            "bar_style": "info",
            "max": 1,
            "_view_module": "@jupyter-widgets/controls",
            "_model_module_version": "1.5.0",
            "value": 1,
            "_view_count": null,
            "_view_module_version": "1.5.0",
            "orientation": "horizontal",
            "min": 0,
            "description_tooltip": null,
            "_model_module": "@jupyter-widgets/controls",
            "layout": "IPY_MODEL_527387113fd549c0b711179520a0b313"
          }
        },
        "1fc638969fa44393916c3ba53ae7a962": {
          "model_module": "@jupyter-widgets/controls",
          "model_name": "HTMLModel",
          "state": {
            "_view_name": "HTMLView",
            "style": "IPY_MODEL_81aa017a85864599848f5b9ebe51ecbc",
            "_dom_classes": [],
            "description": "",
            "_model_name": "HTMLModel",
            "placeholder": "​",
            "_view_module": "@jupyter-widgets/controls",
            "_model_module_version": "1.5.0",
            "value": " 8032/? [00:48&lt;00:00, 182.78it/s]",
            "_view_count": null,
            "_view_module_version": "1.5.0",
            "description_tooltip": null,
            "_model_module": "@jupyter-widgets/controls",
            "layout": "IPY_MODEL_0207a51cff8849afa2dc706f3efee5ac"
          }
        },
        "d0c684efe8224d36967c4fa8a9787198": {
          "model_module": "@jupyter-widgets/controls",
          "model_name": "ProgressStyleModel",
          "state": {
            "_view_name": "StyleView",
            "_model_name": "ProgressStyleModel",
            "description_width": "initial",
            "_view_module": "@jupyter-widgets/base",
            "_model_module_version": "1.5.0",
            "_view_count": null,
            "_view_module_version": "1.2.0",
            "bar_color": null,
            "_model_module": "@jupyter-widgets/controls"
          }
        },
        "527387113fd549c0b711179520a0b313": {
          "model_module": "@jupyter-widgets/base",
          "model_name": "LayoutModel",
          "state": {
            "_view_name": "LayoutView",
            "grid_template_rows": null,
            "right": null,
            "justify_content": null,
            "_view_module": "@jupyter-widgets/base",
            "overflow": null,
            "_model_module_version": "1.2.0",
            "_view_count": null,
            "flex_flow": null,
            "width": null,
            "min_width": null,
            "border": null,
            "align_items": null,
            "bottom": null,
            "_model_module": "@jupyter-widgets/base",
            "top": null,
            "grid_column": null,
            "overflow_y": null,
            "overflow_x": null,
            "grid_auto_flow": null,
            "grid_area": null,
            "grid_template_columns": null,
            "flex": null,
            "_model_name": "LayoutModel",
            "justify_items": null,
            "grid_row": null,
            "max_height": null,
            "align_content": null,
            "visibility": null,
            "align_self": null,
            "height": null,
            "min_height": null,
            "padding": null,
            "grid_auto_rows": null,
            "grid_gap": null,
            "max_width": null,
            "order": null,
            "_view_module_version": "1.2.0",
            "grid_template_areas": null,
            "object_position": null,
            "object_fit": null,
            "grid_auto_columns": null,
            "margin": null,
            "display": null,
            "left": null
          }
        },
        "81aa017a85864599848f5b9ebe51ecbc": {
          "model_module": "@jupyter-widgets/controls",
          "model_name": "DescriptionStyleModel",
          "state": {
            "_view_name": "StyleView",
            "_model_name": "DescriptionStyleModel",
            "description_width": "",
            "_view_module": "@jupyter-widgets/base",
            "_model_module_version": "1.5.0",
            "_view_count": null,
            "_view_module_version": "1.2.0",
            "_model_module": "@jupyter-widgets/controls"
          }
        },
        "0207a51cff8849afa2dc706f3efee5ac": {
          "model_module": "@jupyter-widgets/base",
          "model_name": "LayoutModel",
          "state": {
            "_view_name": "LayoutView",
            "grid_template_rows": null,
            "right": null,
            "justify_content": null,
            "_view_module": "@jupyter-widgets/base",
            "overflow": null,
            "_model_module_version": "1.2.0",
            "_view_count": null,
            "flex_flow": null,
            "width": null,
            "min_width": null,
            "border": null,
            "align_items": null,
            "bottom": null,
            "_model_module": "@jupyter-widgets/base",
            "top": null,
            "grid_column": null,
            "overflow_y": null,
            "overflow_x": null,
            "grid_auto_flow": null,
            "grid_area": null,
            "grid_template_columns": null,
            "flex": null,
            "_model_name": "LayoutModel",
            "justify_items": null,
            "grid_row": null,
            "max_height": null,
            "align_content": null,
            "visibility": null,
            "align_self": null,
            "height": null,
            "min_height": null,
            "padding": null,
            "grid_auto_rows": null,
            "grid_gap": null,
            "max_width": null,
            "order": null,
            "_view_module_version": "1.2.0",
            "grid_template_areas": null,
            "object_position": null,
            "object_fit": null,
            "grid_auto_columns": null,
            "margin": null,
            "display": null,
            "left": null
          }
        }
      }
    }
  },
  "cells": [
    {
      "cell_type": "code",
      "metadata": {
        "colab": {
          "base_uri": "https://localhost:8080/"
        },
        "id": "6J9gMGtyGgv6",
        "outputId": "2e851d2a-aba3-48a8-df4a-c554d9d5c6d0"
      },
      "source": [
        "# Necessary packages\n",
        "\n",
        "import sys, os, random, math, sys\n",
        "import torch, spacy\n",
        "import numpy as np\n",
        "from torch import nn\n",
        "from tqdm.notebook import trange, tqdm\n",
        "\n",
        "from matplotlib import pyplot as plt\n",
        "\n",
        "from torch import optim\n",
        "from torch.autograd import Variable\n",
        "from torch.nn.utils import clip_grad_norm_ as clip_grad_norm\n",
        "from torch.nn import functional as F\n",
        "# from tqdm import tqdm \n",
        "\n",
        "## Random seeds, to make the results reproducible\n",
        "seed = 42\n",
        "\n",
        "random.seed(seed)\n",
        "np.random.seed(seed)\n",
        "torch.manual_seed(seed)\n",
        "torch.cuda.manual_seed_all(seed)\n",
        "torch.backends.cudnn.deterministic = True\n",
        "torch.backends.cudnn.benchmark = False\n",
        "print(torch.randn(5))"
      ],
      "execution_count": 170,
      "outputs": [
        {
          "output_type": "stream",
          "text": [
            "tensor([ 0.3367,  0.1288,  0.2345,  0.2303, -1.1229])\n"
          ],
          "name": "stdout"
        }
      ]
    },
    {
      "cell_type": "code",
      "metadata": {
        "colab": {
          "base_uri": "https://localhost:8080/"
        },
        "id": "FVnZi2hzG3CJ",
        "outputId": "0bce3b11-6050-405f-f269-f3ca1479ebae"
      },
      "source": [
        "torch.cuda.is_available()"
      ],
      "execution_count": 2,
      "outputs": [
        {
          "output_type": "execute_result",
          "data": {
            "text/plain": [
              "True"
            ]
          },
          "metadata": {
            "tags": []
          },
          "execution_count": 2
        }
      ]
    },
    {
      "cell_type": "code",
      "metadata": {
        "id": "jESJOqc8wlcs"
      },
      "source": [
        "torch.cuda.set_device(\"cuda:0\")\n"
      ],
      "execution_count": 3,
      "outputs": []
    },
    {
      "cell_type": "code",
      "metadata": {
        "colab": {
          "base_uri": "https://localhost:8080/"
        },
        "id": "ns7AvX1zHsYJ",
        "outputId": "1e180718-c857-4098-caaa-cb8e94404bfc"
      },
      "source": [
        "#Read in data...\n",
        "\n",
        "!rm -rf processed_data processed_data.zip\n",
        "import urllib.request\n",
        "url = \"https://github.com/benartuso/bias-detection/blob/main/data/processed_data.zip?raw=true\"\n",
        "filename, headers = urllib.request.urlretrieve(url, filename=\"processed_data.zip\")\n",
        "!unzip processed_data.zip\n",
        "print(\"Done\")"
      ],
      "execution_count": 4,
      "outputs": [
        {
          "output_type": "stream",
          "text": [
            "Archive:  processed_data.zip\n",
            "   creating: processed_data/\n",
            "  inflating: processed_data/dev_lstm.csv  \n",
            "  inflating: processed_data/biased.word.dev  \n",
            "  inflating: processed_data/full_dev.csv  \n",
            "  inflating: processed_data/dev_ann.csv  \n",
            "  inflating: processed_data/train_ann.csv  \n",
            "  inflating: processed_data/biased.word.test  \n",
            "  inflating: processed_data/test_ann.csv  \n",
            "  inflating: processed_data/full_test.csv  \n",
            "  inflating: processed_data/biased.word.train  \n",
            "  inflating: processed_data/full_train.csv  \n",
            "  inflating: processed_data/train_lstm.csv  \n",
            "  inflating: processed_data/test_lstm.csv  \n",
            "Done\n"
          ],
          "name": "stdout"
        }
      ]
    },
    {
      "cell_type": "code",
      "metadata": {
        "id": "maicpgscG5HD"
      },
      "source": [
        "#This code is adapted from neural_classifier() lecture example code.\n",
        "from torchtext.data import Field, ReversibleField, Dataset, TabularDataset, BucketIterator, Iterator\n",
        "spacy_en = spacy.load('en')\n",
        "# def tokenize_fn(text):\n",
        "#     \"\"\" Tokenization function - split apart on spaces.\n",
        "#         This is sufficient for tokenization, since puctuation etc. \n",
        "#         have already been handled by the prof's preprocessing of wiki2\n",
        "#     \"\"\"\n",
        "#     # return [tok.text for tok in spacy_en.tokenizer(text)]\n",
        "#     return text.strip().split()\n",
        "\n",
        "\n",
        "def reader(train_name, dev_name, test_name, suffix=\".tsv\", rpath=\"processed_data\", batch_size=8, min_freq=2):\n",
        "    \"\"\"\n",
        "    - suffix: data file suffix\n",
        "    - rpath: path to the data files\n",
        "    - batch_size: mini-batch size\n",
        "    - min_freq: word frequency cutoff, frequency less than min_freq will be removed when building the vocab\n",
        "    \"\"\"\n",
        "    # Utterance Field: text\n",
        "    TXT = Field(sequential=True, tokenize=\"spacy\", init_token=\"<start>\", eos_token=\"<stop>\", lower=True)\n",
        "    LABEL = Field(sequential=False, unk_token=None, dtype=torch.long, use_vocab=False)\n",
        "    #Treat label as a sequential field, pad it as well!\n",
        "\n",
        "\n",
        "    # Create a Dataset instance\n",
        "    fields = [(\"text\", TXT), (\"label\", LABEL)]\n",
        "    trn_data = TabularDataset(os.path.join(rpath, train_name+suffix), format=\"CSV\", fields=fields, skip_header=False)\n",
        "    val_data = TabularDataset(os.path.join(rpath, dev_name+suffix), format=\"CSV\", fields=fields, skip_header=False)\n",
        "    tst_data = TabularDataset(os.path.join(rpath, test_name+suffix), format=\"CSV\", fields=fields, skip_header=False)\n",
        "    #No test data\n",
        "\n",
        "    \n",
        "    # Split\n",
        "    # Build vocab using training data\n",
        "    TXT.build_vocab(trn_data, min_freq=min_freq) # or max_size=10000\n",
        "    LABEL.build_vocab(trn_data, min_freq=min_freq)\n",
        "    # \n",
        "    train_iter, val_iter, test_iter = BucketIterator.splits((trn_data, val_data, tst_data), # data\n",
        "                                                             batch_size=batch_size, # \n",
        "                                                             sort=True, # sort_key not specified\n",
        "                                                             sort_key = lambda x : len(x.text),\n",
        "                                                             shuffle=False, # shuffle between epochs\n",
        "                                                             repeat=False)\n",
        "    return train_iter, val_iter, test_iter, TXT"
      ],
      "execution_count": 9,
      "outputs": []
    },
    {
      "cell_type": "code",
      "metadata": {
        "id": "ZOU8-f0kHSRo"
      },
      "source": [
        "train_iter, val_iter, test_iter, txtfield = reader(\"full_train\", \"full_dev\", \"full_test\", suffix='.csv', rpath=\"processed_data\", min_freq=5, batch_size=16)"
      ],
      "execution_count": 10,
      "outputs": []
    },
    {
      "cell_type": "code",
      "metadata": {
        "colab": {
          "base_uri": "https://localhost:8080/"
        },
        "id": "Xn2-ZYrCH8wd",
        "outputId": "7c57c88a-36a1-4f43-d1ac-af32fef535f3"
      },
      "source": [
        "vocab_size = len(txtfield.vocab)\n",
        "print(\"Vocab size = {}\".format(vocab_size))\n",
        "pad = txtfield.vocab.stoi[txtfield.pad_token]\n",
        "\n",
        "print(\"[TRAIN]:%d (dataset:%d)\\t[VAL]:%d (dataset:%d)\\t\"\n",
        "    % (len(train_iter), len(train_iter.dataset),\n",
        "    len(val_iter), len(val_iter.dataset)))\n",
        "print(\"[vocab]:%d\" % (vocab_size))"
      ],
      "execution_count": 11,
      "outputs": [
        {
          "output_type": "stream",
          "text": [
            "Vocab size = 52693\n",
            "[TRAIN]:19282 (dataset:308504)\t[VAL]:1135 (dataset:18147)\t\n",
            "[vocab]:52693\n"
          ],
          "name": "stdout"
        }
      ]
    },
    {
      "cell_type": "code",
      "metadata": {
        "colab": {
          "base_uri": "https://localhost:8080/"
        },
        "id": "QP11fVdb3KFT",
        "outputId": "aa74b8a3-2611-4156-f6c2-d5a8d645ea21"
      },
      "source": [
        "txtfield.vocab.load_vectors('glove.6B.50d')"
      ],
      "execution_count": 12,
      "outputs": [
        {
          "output_type": "stream",
          "text": [
            ".vector_cache/glove.6B.zip: 862MB [06:27, 2.23MB/s]                          \n",
            "100%|█████████▉| 399762/400000 [00:12<00:00, 33233.94it/s]"
          ],
          "name": "stderr"
        }
      ]
    },
    {
      "cell_type": "code",
      "metadata": {
        "colab": {
          "base_uri": "https://localhost:8080/"
        },
        "id": "e2T40mUI3MVA",
        "outputId": "92eedc84-8fb2-4978-b904-0df4ae941d52"
      },
      "source": [
        "txtfield.vocab.vectors.shape"
      ],
      "execution_count": 13,
      "outputs": [
        {
          "output_type": "execute_result",
          "data": {
            "text/plain": [
              "torch.Size([52693, 50])"
            ]
          },
          "metadata": {
            "tags": []
          },
          "execution_count": 13
        }
      ]
    },
    {
      "cell_type": "code",
      "metadata": {
        "id": "yNpXUWAZ3Rcc"
      },
      "source": [
        ""
      ],
      "execution_count": null,
      "outputs": []
    },
    {
      "cell_type": "markdown",
      "metadata": {
        "id": "NUKjyzbc3VaR"
      },
      "source": [
        "## LSTM model"
      ]
    },
    {
      "cell_type": "code",
      "metadata": {
        "id": "pgCckmkUIHRl"
      },
      "source": [
        "class LSTM(nn.Module):\n",
        "  def __init__(self, vocab, vocab_size, pad_token, n_hidden=32, n_layers=1, drop_prob=0, lr=0.1):\n",
        "    super().__init__()\n",
        "\n",
        "    self.vocab_size = vocab_size\n",
        "    self.n_hidden = n_hidden\n",
        "    self.n_layers = n_layers\n",
        "    self.pad = pad_token\n",
        "    self.emb_layer = nn.Embedding.from_pretrained(vocab.vectors, padding_idx = self.pad)\n",
        "    # self.emb_layer = nn.Embedding(vocab_size, n_input, padding_idx = self.pad)\n",
        "    self.dropout = nn.Dropout(drop_prob)\n",
        "    self.lstm = nn.LSTM(50, n_hidden, n_layers, dropout=drop_prob, batch_first=False)\n",
        "    self.fc = nn.Linear(n_hidden, 2)\n",
        "    self.lr = lr\n",
        "  \n",
        "  def forward(self, batch, hidden):\n",
        "    input = batch.text.cuda()\n",
        "\n",
        "    #Create word embeddings\n",
        "    embedded = self.emb_layer(input)\n",
        "    lstm_output, hidden = self.lstm(embedded, hidden)\n",
        "    summed = torch.sigmoid(lstm_output.sum(axis=0))\n",
        "\n",
        "    out = self.dropout(summed)\n",
        "    out = self.fc(out)\n",
        "    # out = out[-1]\n",
        "    probs = F.softmax(out, dim=-1) #Is this right? \n",
        "\n",
        "    # #label = label.permute(1,0)\n",
        "\n",
        "    # #out = out.permute(1, 2, 0)\n",
        "    # loss = F.cross_entropy(out, label, reduction=\"mean\")\n",
        "\n",
        "    return probs, hidden\n",
        "\n",
        "  def init_hidden(self, batch_size):\n",
        "    weight = next(self.parameters()).data\n",
        "# \n",
        "    hidden = (weight.new(self.n_layers, batch_size, self.n_hidden).zero_().cuda(), \n",
        "                 weight.new(self.n_layers, batch_size, self.n_hidden).zero_().cuda())\n",
        "        \n",
        "    return hidden"
      ],
      "execution_count": 137,
      "outputs": []
    },
    {
      "cell_type": "code",
      "metadata": {
        "colab": {
          "base_uri": "https://localhost:8080/"
        },
        "id": "2hTzhvipH63h",
        "outputId": "3544c2da-6bb8-46f3-f2a9-a778204afe08"
      },
      "source": [
        "a.permute(1,0)"
      ],
      "execution_count": 136,
      "outputs": [
        {
          "output_type": "execute_result",
          "data": {
            "text/plain": [
              "tensor([[0.0418, 0.3870, 0.7510, 0.3568, 0.9280, 0.1097, 0.8260, 0.3454, 0.3609,\n",
              "         0.7454, 0.7957, 0.4409, 0.7888, 0.8633, 0.2067, 0.0989],\n",
              "        [0.9582, 0.6130, 0.2490, 0.6432, 0.0720, 0.8903, 0.1740, 0.6546, 0.6391,\n",
              "         0.2546, 0.2043, 0.5591, 0.2112, 0.1367, 0.7933, 0.9011]],\n",
              "       device='cuda:0', grad_fn=<PermuteBackward>)"
            ]
          },
          "metadata": {
            "tags": []
          },
          "execution_count": 136
        }
      ]
    },
    {
      "cell_type": "code",
      "metadata": {
        "id": "d1YrA2g0SiEU"
      },
      "source": [
        "def batch_train(batch, model, optimizer):\n",
        "\n",
        "  hidden = model.init_hidden(batch_size=batch.batch_size)\n",
        "\n",
        "  model.train()\n",
        "\n",
        "  optimizer.zero_grad()\n",
        "\n",
        "  probs, _ = model(batch, hidden)\n",
        "  logprobs = torch.log(probs)\n",
        "  loss = F.cross_entropy(logprobs, batch.label.cuda())\n",
        "\n",
        "  loss.backward()\n",
        "  clip_grad_norm(model.parameters(), grad_clip)\n",
        "  optimizer.step()\n",
        "\n",
        "  return model, loss.item()"
      ],
      "execution_count": 174,
      "outputs": []
    },
    {
      "cell_type": "code",
      "metadata": {
        "id": "5-qmK1loLqT5"
      },
      "source": [
        "def eval(data_iter, model):\n",
        "  model.eval()\n",
        "\n",
        "  val_loss, val_batch = 0, 0\n",
        "  total_example, correct_pred = 0, 0\n",
        "\n",
        "  for b, batch in enumerate(data_iter):\n",
        "    hidden = model.init_hidden(batch_size=batch.batch_size)\n",
        "    probs, _ = model(batch, hidden)\n",
        "    logprobs = torch.log(probs)\n",
        "    loss = F.cross_entropy(logprobs, batch.label.cuda()).item()\n",
        "\n",
        "    val_batch += 1\n",
        "    val_loss += loss\n",
        "\n",
        "    max_logprobs, pred_labels = torch.max(logprobs, -1)\n",
        "    correct_pred += (pred_labels==batch.label.to(\"cuda:0\")).sum()\n",
        "    total_example += batch.batch_size\n",
        "  \n",
        "  acc = (1.0 * correct_pred) / total_example\n",
        "  return (val_loss / val_batch), acc"
      ],
      "execution_count": 181,
      "outputs": []
    },
    {
      "cell_type": "code",
      "metadata": {
        "colab": {
          "base_uri": "https://localhost:8080/",
          "height": 891,
          "referenced_widgets": [
            "ff69eb7768fa439e997c35235c52d903",
            "ac148fb53dd941ec97b52a95ac9c975d",
            "51c6de10880b4e90b127fdb712e07584",
            "b918a4e8ab6a436a8bfb52e896a4c56b",
            "49da524e21bb453eb7b942f5c28c93cc",
            "201fada1efc04d0385bf1f893bd65ade",
            "8106479caf2c443a8172994768629bd6",
            "edf34d55ce7d46b99a10eddfcda8bab3",
            "eb2a740a820f49588836e50ff95a2a74",
            "1253a09883a94d1d8116369f275a5eda",
            "2a5f5fd0f13f4414a6d78ab4a70d37e8",
            "6ca6417651464f8b87289538a139f431",
            "531e6362fc7e4892a01be93e12d3a140",
            "2521f092353b418ca5bcc67563460ec2",
            "b77c077d223f43ff8c854dd108a36ac5",
            "14e2455814b447c48fc3caa4ed48b37e",
            "5ed1ad6ead5d42c5802e4efdf51c242e",
            "6f6bdc36af9b4bf78b3528c18497fcac",
            "b618775e739b41509c396fbdddba5149",
            "a13123a1267b4106a2acdd5672639349",
            "7a56f7a6b5bd49149b7c089057065d50",
            "01b4c2c5354042448dfe8470b4f73073",
            "77ee0f572a8c4ac084b6c8e62a56be5f",
            "4d2e2ba3bd94429a97275c173af606a9",
            "cd9d8d05bacf4b118e2f4d1d94c05f65",
            "f4abea6c0bc64836baac32cff234098f",
            "40e66f936f8c4b95b32da145652f1f8d",
            "0f6e06b2120040648ab9975a241f5ac5",
            "0c4595a6deb9481aa0c2712dce062133",
            "bde0664355594767b8bb786feaf97250",
            "73efc79d5a0d473497c9c6d200ab6617",
            "6fca7ebe9d7540c187689a8b81b6d86b",
            "5a6edd4dc19a4b2283e11eff04e77211",
            "4caca33bc2b74d43a6cf76a09596080d",
            "3d1ac21788114aeca5ed9d10165a7aaa",
            "1fc638969fa44393916c3ba53ae7a962",
            "d0c684efe8224d36967c4fa8a9787198",
            "527387113fd549c0b711179520a0b313",
            "81aa017a85864599848f5b9ebe51ecbc",
            "0207a51cff8849afa2dc706f3efee5ac"
          ]
        },
        "id": "501-10a9Svz1",
        "outputId": "c367dc60-3be4-43ac-c699-af7cc998a988"
      },
      "source": [
        "#Initialize model with params specified in HW description\n",
        "model = LSTM(txtfield.vocab, vocab_size, pad, n_hidden=32, n_layers=2, drop_prob=0.5, lr=0.01)\n",
        "#Move to colab GPU for speed updates\n",
        "model.cuda()\n",
        "#Initialize hidden state\n",
        "# hidden = model.init_hidden(batch_size=16)\n",
        "#Initialize optimizer\n",
        "optimizer = optim.SGD(model.parameters(), lr=0.1, weight_decay=0)\n",
        "# the norm of grad clipping\n",
        "grad_clip = 1.0\n",
        "\n",
        "# ------------------------------------\n",
        "# 3. Define the numbers of training epochs and validation steps (val_steps not used here)\n",
        "epoch, val_step = 5, 2000\n",
        "\n",
        "# ------------------------------------\n",
        "# 4. Training iterations\n",
        "TrnLoss, ValLoss, ValAcc = [], [], []\n",
        "total_batch = 0\n",
        "for e in trange(epoch):\n",
        "    epoch_loss = []\n",
        "    print(\"Beginning epoch {}\".format(e+1))\n",
        "    for b, batch in tqdm(enumerate(train_iter)):\n",
        "        total_batch += 1\n",
        "        # Update parameters with one batch\n",
        "        model, loss = batch_train(batch, model, optimizer)\n",
        "        if total_batch % val_step == 0:\n",
        "          val_loss, val_acc = eval(val_iter, model)\n",
        "          ValLoss.append(val_loss)\n",
        "          ValAcc.append(val_acc)\n",
        "          print(val_acc.item(), val_loss, loss)\n",
        "          TrnLoss.append(loss)\n",
        "        epoch_loss.append(loss)\n",
        "        # if b % 500 == 0:\n",
        "          # print(loss)\n",
        "    print(\"Epoch {} average loss: {}\".format((e+1), np.mean(epoch_loss)))    "
      ],
      "execution_count": null,
      "outputs": [
        {
          "output_type": "display_data",
          "data": {
            "application/vnd.jupyter.widget-view+json": {
              "model_id": "ff69eb7768fa439e997c35235c52d903",
              "version_minor": 0,
              "version_major": 2
            },
            "text/plain": [
              "HBox(children=(FloatProgress(value=0.0, max=5.0), HTML(value='')))"
            ]
          },
          "metadata": {
            "tags": []
          }
        },
        {
          "output_type": "stream",
          "text": [
            "Beginning epoch 1\n"
          ],
          "name": "stdout"
        },
        {
          "output_type": "display_data",
          "data": {
            "application/vnd.jupyter.widget-view+json": {
              "model_id": "eb2a740a820f49588836e50ff95a2a74",
              "version_minor": 0,
              "version_major": 2
            },
            "text/plain": [
              "HBox(children=(FloatProgress(value=1.0, bar_style='info', max=1.0), HTML(value='')))"
            ]
          },
          "metadata": {
            "tags": []
          }
        },
        {
          "output_type": "stream",
          "text": [
            "0.49639058113098145 0.6981986803105225 0.6773391366004944\n",
            "0.49699676036834717 0.6955423464333959 0.6937387585639954\n",
            "0.5268639326095581 0.6932600525507318 0.7177443504333496\n",
            "0.5268639326095581 0.6916792071338267 0.6613849401473999\n",
            "0.5332561731338501 0.6916865199673018 0.726850688457489\n",
            "0.5550228953361511 0.6840822296520687 0.7150747776031494\n",
            "0.5609742403030396 0.6824279056246585 0.6951236724853516\n",
            "0.5592108964920044 0.6832593782357708 0.6933128833770752\n",
            "0.513914167881012 0.6938812550994268 0.7094101309776306\n",
            "\n",
            "Epoch 1 average loss: 0.6879062445878908\n",
            "Beginning epoch 2\n"
          ],
          "name": "stdout"
        },
        {
          "output_type": "display_data",
          "data": {
            "application/vnd.jupyter.widget-view+json": {
              "model_id": "5ed1ad6ead5d42c5802e4efdf51c242e",
              "version_minor": 0,
              "version_major": 2
            },
            "text/plain": [
              "HBox(children=(FloatProgress(value=1.0, bar_style='info', max=1.0), HTML(value='')))"
            ]
          },
          "metadata": {
            "tags": []
          }
        },
        {
          "output_type": "stream",
          "text": [
            "0.5710034966468811 0.6732364272231047 0.7287817597389221\n",
            "0.5643908381462097 0.6721234105494579 0.5892385840415955\n",
            "0.5778916478157043 0.6691411403569881 0.6150476932525635\n",
            "0.5548024773597717 0.6706300780899199 0.6762993931770325\n",
            "0.5847247242927551 0.6641097607591604 0.6780310869216919\n",
            "0.5946988463401794 0.6606534318251757 0.6444752216339111\n",
            "0.5943130850791931 0.6662679448526861 0.6813730597496033\n",
            "0.5927701592445374 0.6629690396365615 0.5597493052482605\n",
            "0.5951396822929382 0.6614272492572599 0.7470428943634033\n",
            "0.6016421318054199 0.6614828247330787 0.6631057262420654\n",
            "\n",
            "Epoch 2 average loss: 0.6679751505440986\n",
            "Beginning epoch 3\n"
          ],
          "name": "stdout"
        },
        {
          "output_type": "display_data",
          "data": {
            "application/vnd.jupyter.widget-view+json": {
              "model_id": "cd9d8d05bacf4b118e2f4d1d94c05f65",
              "version_minor": 0,
              "version_major": 2
            },
            "text/plain": [
              "HBox(children=(FloatProgress(value=1.0, bar_style='info', max=1.0), HTML(value='')))"
            ]
          },
          "metadata": {
            "tags": []
          }
        },
        {
          "output_type": "stream",
          "text": [
            "0.5579985976219177 0.6607260475862394 0.7486350536346436\n",
            "0.6012012958526611 0.6546048745972469 0.6806470155715942\n",
            "0.5938171744346619 0.6535347611893642 0.8063373565673828\n",
            "0.5993828177452087 0.6522470233198829 0.6434406638145447\n",
            "0.6103488206863403 0.6480269082579844 0.5989441275596619\n",
            "0.600374698638916 0.6537859886490826 0.6902320384979248\n",
            "0.6079241633415222 0.6493958027877471 0.706602156162262\n",
            "0.606766939163208 0.6509491114364322 0.6345384120941162\n",
            "0.6139307022094727 0.6490267737321391 0.6740504503250122\n",
            "\n",
            "Epoch 3 average loss: 0.6565005093574919\n",
            "Beginning epoch 4\n"
          ],
          "name": "stdout"
        },
        {
          "output_type": "display_data",
          "data": {
            "application/vnd.jupyter.widget-view+json": {
              "model_id": "5a6edd4dc19a4b2283e11eff04e77211",
              "version_minor": 0,
              "version_major": 2
            },
            "text/plain": [
              "HBox(children=(FloatProgress(value=1.0, bar_style='info', max=1.0), HTML(value='')))"
            ]
          },
          "metadata": {
            "tags": []
          }
        },
        {
          "output_type": "stream",
          "text": [
            "0.6132693886756897 0.6521363747014873 0.5183908939361572\n",
            "0.5798203349113464 0.6552044664185478 0.4827478528022766\n",
            "0.5744200348854065 0.6508212927154507 0.6802610754966736\n",
            "0.6059954762458801 0.6458558550752732 0.5586807131767273\n"
          ],
          "name": "stdout"
        }
      ]
    },
    {
      "cell_type": "code",
      "metadata": {
        "id": "LC9RbbEUS1wK"
      },
      "source": [
        "for e in trange(15):\n",
        "    epoch_loss = []\n",
        "    print(\"Beginning epoch {}\".format(e+1))\n",
        "    for b, batch in tqdm(enumerate(train_iter)):\n",
        "        total_batch += 1\n",
        "        # Update parameters with one batch\n",
        "        model, loss = batch_train(batch, model, optimizer)\n",
        "        if total_batch % val_step == 0:\n",
        "          val_loss, val_acc = eval(val_iter, model)\n",
        "          ValLoss.append(val_loss)\n",
        "          ValAcc.append(val_acc)\n",
        "          print(val_acc.item(), val_loss, loss)\n",
        "          TrnLoss.append(loss)\n",
        "        epoch_loss.append(loss)\n",
        "        # if b % 500 == 0:\n",
        "          # print(loss)\n",
        "    print(\"Epoch {} average loss: {}\".format((e+1), np.mean(epoch_loss)))"
      ],
      "execution_count": null,
      "outputs": []
    },
    {
      "cell_type": "code",
      "metadata": {
        "id": "gYDZ1t6TS7Qj"
      },
      "source": [
        ""
      ],
      "execution_count": null,
      "outputs": []
    }
  ]
}