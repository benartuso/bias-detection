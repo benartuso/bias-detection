{
  "nbformat": 4,
  "nbformat_minor": 0,
  "metadata": {
    "kernelspec": {
      "display_name": "Python 3",
      "language": "python",
      "name": "python3"
    },
    "language_info": {
      "codemirror_mode": {
        "name": "ipython",
        "version": 3
      },
      "file_extension": ".py",
      "mimetype": "text/x-python",
      "name": "python",
      "nbconvert_exporter": "python",
      "pygments_lexer": "ipython3",
      "version": "3.7.3"
    },
    "colab": {
      "name": "feed-forward-nn.ipynb",
      "provenance": []
    },
    "widgets": {
      "application/vnd.jupyter.widget-state+json": {
        "96cbd47928bd4531a788828bcb63bd1f": {
          "model_module": "@jupyter-widgets/controls",
          "model_name": "HBoxModel",
          "state": {
            "_view_name": "HBoxView",
            "_dom_classes": [],
            "_model_name": "HBoxModel",
            "_view_module": "@jupyter-widgets/controls",
            "_model_module_version": "1.5.0",
            "_view_count": null,
            "_view_module_version": "1.5.0",
            "box_style": "",
            "layout": "IPY_MODEL_e568813d2e5c4d659bc6afcc94c9af18",
            "_model_module": "@jupyter-widgets/controls",
            "children": [
              "IPY_MODEL_64c4463c3b294cb996458c956f4be58b",
              "IPY_MODEL_2489bc1028224327ae6fe00f2e27840a"
            ]
          }
        },
        "e568813d2e5c4d659bc6afcc94c9af18": {
          "model_module": "@jupyter-widgets/base",
          "model_name": "LayoutModel",
          "state": {
            "_view_name": "LayoutView",
            "grid_template_rows": null,
            "right": null,
            "justify_content": null,
            "_view_module": "@jupyter-widgets/base",
            "overflow": null,
            "_model_module_version": "1.2.0",
            "_view_count": null,
            "flex_flow": null,
            "width": null,
            "min_width": null,
            "border": null,
            "align_items": null,
            "bottom": null,
            "_model_module": "@jupyter-widgets/base",
            "top": null,
            "grid_column": null,
            "overflow_y": null,
            "overflow_x": null,
            "grid_auto_flow": null,
            "grid_area": null,
            "grid_template_columns": null,
            "flex": null,
            "_model_name": "LayoutModel",
            "justify_items": null,
            "grid_row": null,
            "max_height": null,
            "align_content": null,
            "visibility": null,
            "align_self": null,
            "height": null,
            "min_height": null,
            "padding": null,
            "grid_auto_rows": null,
            "grid_gap": null,
            "max_width": null,
            "order": null,
            "_view_module_version": "1.2.0",
            "grid_template_areas": null,
            "object_position": null,
            "object_fit": null,
            "grid_auto_columns": null,
            "margin": null,
            "display": null,
            "left": null
          }
        },
        "64c4463c3b294cb996458c956f4be58b": {
          "model_module": "@jupyter-widgets/controls",
          "model_name": "FloatProgressModel",
          "state": {
            "_view_name": "ProgressView",
            "style": "IPY_MODEL_8691ceffa2d045d7b3d2cd11d6ff1f92",
            "_dom_classes": [],
            "description": "  0%",
            "_model_name": "FloatProgressModel",
            "bar_style": "danger",
            "max": 5,
            "_view_module": "@jupyter-widgets/controls",
            "_model_module_version": "1.5.0",
            "value": 0,
            "_view_count": null,
            "_view_module_version": "1.5.0",
            "orientation": "horizontal",
            "min": 0,
            "description_tooltip": null,
            "_model_module": "@jupyter-widgets/controls",
            "layout": "IPY_MODEL_d9ed978371714528801e353c968ee116"
          }
        },
        "2489bc1028224327ae6fe00f2e27840a": {
          "model_module": "@jupyter-widgets/controls",
          "model_name": "HTMLModel",
          "state": {
            "_view_name": "HTMLView",
            "style": "IPY_MODEL_3ffd70702cb243dabad2eaec055a2cf5",
            "_dom_classes": [],
            "description": "",
            "_model_name": "HTMLModel",
            "placeholder": "​",
            "_view_module": "@jupyter-widgets/controls",
            "_model_module_version": "1.5.0",
            "value": " 0/5 [00:18&lt;?, ?it/s]",
            "_view_count": null,
            "_view_module_version": "1.5.0",
            "description_tooltip": null,
            "_model_module": "@jupyter-widgets/controls",
            "layout": "IPY_MODEL_ce3031cffc8447e687e51094c4037631"
          }
        },
        "8691ceffa2d045d7b3d2cd11d6ff1f92": {
          "model_module": "@jupyter-widgets/controls",
          "model_name": "ProgressStyleModel",
          "state": {
            "_view_name": "StyleView",
            "_model_name": "ProgressStyleModel",
            "description_width": "initial",
            "_view_module": "@jupyter-widgets/base",
            "_model_module_version": "1.5.0",
            "_view_count": null,
            "_view_module_version": "1.2.0",
            "bar_color": null,
            "_model_module": "@jupyter-widgets/controls"
          }
        },
        "d9ed978371714528801e353c968ee116": {
          "model_module": "@jupyter-widgets/base",
          "model_name": "LayoutModel",
          "state": {
            "_view_name": "LayoutView",
            "grid_template_rows": null,
            "right": null,
            "justify_content": null,
            "_view_module": "@jupyter-widgets/base",
            "overflow": null,
            "_model_module_version": "1.2.0",
            "_view_count": null,
            "flex_flow": null,
            "width": null,
            "min_width": null,
            "border": null,
            "align_items": null,
            "bottom": null,
            "_model_module": "@jupyter-widgets/base",
            "top": null,
            "grid_column": null,
            "overflow_y": null,
            "overflow_x": null,
            "grid_auto_flow": null,
            "grid_area": null,
            "grid_template_columns": null,
            "flex": null,
            "_model_name": "LayoutModel",
            "justify_items": null,
            "grid_row": null,
            "max_height": null,
            "align_content": null,
            "visibility": null,
            "align_self": null,
            "height": null,
            "min_height": null,
            "padding": null,
            "grid_auto_rows": null,
            "grid_gap": null,
            "max_width": null,
            "order": null,
            "_view_module_version": "1.2.0",
            "grid_template_areas": null,
            "object_position": null,
            "object_fit": null,
            "grid_auto_columns": null,
            "margin": null,
            "display": null,
            "left": null
          }
        },
        "3ffd70702cb243dabad2eaec055a2cf5": {
          "model_module": "@jupyter-widgets/controls",
          "model_name": "DescriptionStyleModel",
          "state": {
            "_view_name": "StyleView",
            "_model_name": "DescriptionStyleModel",
            "description_width": "",
            "_view_module": "@jupyter-widgets/base",
            "_model_module_version": "1.5.0",
            "_view_count": null,
            "_view_module_version": "1.2.0",
            "_model_module": "@jupyter-widgets/controls"
          }
        },
        "ce3031cffc8447e687e51094c4037631": {
          "model_module": "@jupyter-widgets/base",
          "model_name": "LayoutModel",
          "state": {
            "_view_name": "LayoutView",
            "grid_template_rows": null,
            "right": null,
            "justify_content": null,
            "_view_module": "@jupyter-widgets/base",
            "overflow": null,
            "_model_module_version": "1.2.0",
            "_view_count": null,
            "flex_flow": null,
            "width": null,
            "min_width": null,
            "border": null,
            "align_items": null,
            "bottom": null,
            "_model_module": "@jupyter-widgets/base",
            "top": null,
            "grid_column": null,
            "overflow_y": null,
            "overflow_x": null,
            "grid_auto_flow": null,
            "grid_area": null,
            "grid_template_columns": null,
            "flex": null,
            "_model_name": "LayoutModel",
            "justify_items": null,
            "grid_row": null,
            "max_height": null,
            "align_content": null,
            "visibility": null,
            "align_self": null,
            "height": null,
            "min_height": null,
            "padding": null,
            "grid_auto_rows": null,
            "grid_gap": null,
            "max_width": null,
            "order": null,
            "_view_module_version": "1.2.0",
            "grid_template_areas": null,
            "object_position": null,
            "object_fit": null,
            "grid_auto_columns": null,
            "margin": null,
            "display": null,
            "left": null
          }
        },
        "71765c9417544477adf6791291d1588a": {
          "model_module": "@jupyter-widgets/controls",
          "model_name": "HBoxModel",
          "state": {
            "_view_name": "HBoxView",
            "_dom_classes": [],
            "_model_name": "HBoxModel",
            "_view_module": "@jupyter-widgets/controls",
            "_model_module_version": "1.5.0",
            "_view_count": null,
            "_view_module_version": "1.5.0",
            "box_style": "",
            "layout": "IPY_MODEL_b72e1efd22014dcd8abc47794b8dcbf6",
            "_model_module": "@jupyter-widgets/controls",
            "children": [
              "IPY_MODEL_6ff8073eb1454804804eb2b1d2891e76",
              "IPY_MODEL_7c56f0f5122544f5b03f3b0aa7e0d9e8"
            ]
          }
        },
        "b72e1efd22014dcd8abc47794b8dcbf6": {
          "model_module": "@jupyter-widgets/base",
          "model_name": "LayoutModel",
          "state": {
            "_view_name": "LayoutView",
            "grid_template_rows": null,
            "right": null,
            "justify_content": null,
            "_view_module": "@jupyter-widgets/base",
            "overflow": null,
            "_model_module_version": "1.2.0",
            "_view_count": null,
            "flex_flow": null,
            "width": null,
            "min_width": null,
            "border": null,
            "align_items": null,
            "bottom": null,
            "_model_module": "@jupyter-widgets/base",
            "top": null,
            "grid_column": null,
            "overflow_y": null,
            "overflow_x": null,
            "grid_auto_flow": null,
            "grid_area": null,
            "grid_template_columns": null,
            "flex": null,
            "_model_name": "LayoutModel",
            "justify_items": null,
            "grid_row": null,
            "max_height": null,
            "align_content": null,
            "visibility": null,
            "align_self": null,
            "height": null,
            "min_height": null,
            "padding": null,
            "grid_auto_rows": null,
            "grid_gap": null,
            "max_width": null,
            "order": null,
            "_view_module_version": "1.2.0",
            "grid_template_areas": null,
            "object_position": null,
            "object_fit": null,
            "grid_auto_columns": null,
            "margin": null,
            "display": null,
            "left": null
          }
        },
        "6ff8073eb1454804804eb2b1d2891e76": {
          "model_module": "@jupyter-widgets/controls",
          "model_name": "FloatProgressModel",
          "state": {
            "_view_name": "ProgressView",
            "style": "IPY_MODEL_dc65b1f3a0ef4516a8054e3dc0d48027",
            "_dom_classes": [],
            "description": "",
            "_model_name": "FloatProgressModel",
            "bar_style": "danger",
            "max": 1,
            "_view_module": "@jupyter-widgets/controls",
            "_model_module_version": "1.5.0",
            "value": 1,
            "_view_count": null,
            "_view_module_version": "1.5.0",
            "orientation": "horizontal",
            "min": 0,
            "description_tooltip": null,
            "_model_module": "@jupyter-widgets/controls",
            "layout": "IPY_MODEL_8f9809c2b9ba42468a889231d554987c"
          }
        },
        "7c56f0f5122544f5b03f3b0aa7e0d9e8": {
          "model_module": "@jupyter-widgets/controls",
          "model_name": "HTMLModel",
          "state": {
            "_view_name": "HTMLView",
            "style": "IPY_MODEL_57916a7be26f4985a118dd96105c57aa",
            "_dom_classes": [],
            "description": "",
            "_model_name": "HTMLModel",
            "placeholder": "​",
            "_view_module": "@jupyter-widgets/controls",
            "_model_module_version": "1.5.0",
            "value": " 1725/? [00:34&lt;00:00, 93.72it/s]",
            "_view_count": null,
            "_view_module_version": "1.5.0",
            "description_tooltip": null,
            "_model_module": "@jupyter-widgets/controls",
            "layout": "IPY_MODEL_d8d6c1cf87ae4014b3d8f87d48feb653"
          }
        },
        "dc65b1f3a0ef4516a8054e3dc0d48027": {
          "model_module": "@jupyter-widgets/controls",
          "model_name": "ProgressStyleModel",
          "state": {
            "_view_name": "StyleView",
            "_model_name": "ProgressStyleModel",
            "description_width": "initial",
            "_view_module": "@jupyter-widgets/base",
            "_model_module_version": "1.5.0",
            "_view_count": null,
            "_view_module_version": "1.2.0",
            "bar_color": null,
            "_model_module": "@jupyter-widgets/controls"
          }
        },
        "8f9809c2b9ba42468a889231d554987c": {
          "model_module": "@jupyter-widgets/base",
          "model_name": "LayoutModel",
          "state": {
            "_view_name": "LayoutView",
            "grid_template_rows": null,
            "right": null,
            "justify_content": null,
            "_view_module": "@jupyter-widgets/base",
            "overflow": null,
            "_model_module_version": "1.2.0",
            "_view_count": null,
            "flex_flow": null,
            "width": null,
            "min_width": null,
            "border": null,
            "align_items": null,
            "bottom": null,
            "_model_module": "@jupyter-widgets/base",
            "top": null,
            "grid_column": null,
            "overflow_y": null,
            "overflow_x": null,
            "grid_auto_flow": null,
            "grid_area": null,
            "grid_template_columns": null,
            "flex": null,
            "_model_name": "LayoutModel",
            "justify_items": null,
            "grid_row": null,
            "max_height": null,
            "align_content": null,
            "visibility": null,
            "align_self": null,
            "height": null,
            "min_height": null,
            "padding": null,
            "grid_auto_rows": null,
            "grid_gap": null,
            "max_width": null,
            "order": null,
            "_view_module_version": "1.2.0",
            "grid_template_areas": null,
            "object_position": null,
            "object_fit": null,
            "grid_auto_columns": null,
            "margin": null,
            "display": null,
            "left": null
          }
        },
        "57916a7be26f4985a118dd96105c57aa": {
          "model_module": "@jupyter-widgets/controls",
          "model_name": "DescriptionStyleModel",
          "state": {
            "_view_name": "StyleView",
            "_model_name": "DescriptionStyleModel",
            "description_width": "",
            "_view_module": "@jupyter-widgets/base",
            "_model_module_version": "1.5.0",
            "_view_count": null,
            "_view_module_version": "1.2.0",
            "_model_module": "@jupyter-widgets/controls"
          }
        },
        "d8d6c1cf87ae4014b3d8f87d48feb653": {
          "model_module": "@jupyter-widgets/base",
          "model_name": "LayoutModel",
          "state": {
            "_view_name": "LayoutView",
            "grid_template_rows": null,
            "right": null,
            "justify_content": null,
            "_view_module": "@jupyter-widgets/base",
            "overflow": null,
            "_model_module_version": "1.2.0",
            "_view_count": null,
            "flex_flow": null,
            "width": null,
            "min_width": null,
            "border": null,
            "align_items": null,
            "bottom": null,
            "_model_module": "@jupyter-widgets/base",
            "top": null,
            "grid_column": null,
            "overflow_y": null,
            "overflow_x": null,
            "grid_auto_flow": null,
            "grid_area": null,
            "grid_template_columns": null,
            "flex": null,
            "_model_name": "LayoutModel",
            "justify_items": null,
            "grid_row": null,
            "max_height": null,
            "align_content": null,
            "visibility": null,
            "align_self": null,
            "height": null,
            "min_height": null,
            "padding": null,
            "grid_auto_rows": null,
            "grid_gap": null,
            "max_width": null,
            "order": null,
            "_view_module_version": "1.2.0",
            "grid_template_areas": null,
            "object_position": null,
            "object_fit": null,
            "grid_auto_columns": null,
            "margin": null,
            "display": null,
            "left": null
          }
        }
      }
    }
  },
  "cells": [
    {
      "cell_type": "markdown",
      "metadata": {
        "id": "77kA1aO6QHa4"
      },
      "source": [
        "# Feed-forward neural net. \n",
        "\n",
        "This notebook is meant to be run **online**, in google colab to take advantage of the free GPUs. If you run the data reading cell locally, it might yak stuff up in your local directory. \n",
        "\n",
        "Simplifications I'm making FOR NOW: \n",
        "- No punctuation\n",
        "- No test data"
      ]
    },
    {
      "cell_type": "code",
      "metadata": {
        "colab": {
          "base_uri": "https://localhost:8080/"
        },
        "id": "mGt8tmWWO_Le",
        "outputId": "e042918f-ba51-4241-8d51-6b7fd32f23e0"
      },
      "source": [
        "import torch, spacy\n",
        "import random\n",
        "import numpy as np\n",
        "from torch import nn\n",
        "from tqdm.notebook import trange, tqdm\n",
        "import os\n",
        "\n",
        "\n",
        "from matplotlib import pyplot as plt\n",
        "from torch import optim\n",
        "from torch.autograd import Variable\n",
        "from torch.nn.utils import clip_grad_norm_ as clip_grad_norm\n",
        "from torch.nn import functional as F\n",
        "\n",
        "seed = 811\n",
        "\n",
        "random.seed(seed)\n",
        "np.random.seed(seed)\n",
        "torch.manual_seed(seed)\n",
        "torch.cuda.manual_seed_all(seed)\n",
        "torch.backends.cudnn.deterministic=True\n",
        "torch.backends.cudnn.benchmark = False\n",
        "print(torch.randn(5))"
      ],
      "execution_count": null,
      "outputs": [
        {
          "output_type": "stream",
          "text": [
            "tensor([-1.1484,  0.0960, -2.0328, -0.0796, -0.7443])\n"
          ],
          "name": "stdout"
        }
      ]
    },
    {
      "cell_type": "code",
      "metadata": {
        "colab": {
          "base_uri": "https://localhost:8080/"
        },
        "id": "p_UqgGDQO_Lf",
        "outputId": "f1f4d36b-d7f7-4b0e-945b-cb7c024fd24f"
      },
      "source": [
        "#Read in data...\n",
        "\n",
        "!rm -rf processed_data processed_data.zip\n",
        "import urllib.request\n",
        "url = \"https://github.com/benartuso/bias-detection/blob/main/data/processed_data.zip?raw=true\"\n",
        "filename, headers = urllib.request.urlretrieve(url, filename=\"processed_data.zip\")\n",
        "!unzip processed_data.zip\n",
        "print(\"Done\")"
      ],
      "execution_count": null,
      "outputs": [
        {
          "output_type": "stream",
          "text": [
            "Archive:  processed_data.zip\n",
            "   creating: processed_data/\n",
            "  inflating: processed_data/biased.word.dev  \n",
            "  inflating: processed_data/dev_ann.csv  \n",
            "  inflating: processed_data/train_ann.csv  \n",
            "  inflating: processed_data/biased.word.test  \n",
            "  inflating: processed_data/biased.word.train  \n",
            "Done\n"
          ],
          "name": "stdout"
        }
      ]
    },
    {
      "cell_type": "code",
      "metadata": {
        "id": "Dc22D2LsPPhw"
      },
      "source": [
        "from torchtext.data import Field, ReversibleField, Dataset, TabularDataset, BucketIterator, Iterator\n",
        "\n",
        "spacy_en = spacy.load('en')\n",
        "\n",
        "def tokenize_fn(text):\n",
        "  return text.strip().split()\n",
        "\n",
        "def reader(suffix = \".csv\", rpath=\"processed_data\", batch_size=8, min_freq=2):\n",
        "  #Text field, sequence data\n",
        "  TXT = Field(sequential=True, tokenize=tokenize_fn, init_token=None, eos_token=None, lower=True)\n",
        "  #Binary labels\n",
        "  LABEL = Field(sequential=False, unk_token=None, dtype=torch.long, use_vocab=False)\n",
        "\n",
        "  #Create Dataset\n",
        "  fields = [(\"text\", TXT), (\"label\", LABEL)]\n",
        "  trn_data = TabularDataset(os.path.join(rpath, 'train_ann'+suffix), format=\"CSV\", fields=fields, skip_header=True)\n",
        "  val_data = TabularDataset(os.path.join(rpath, 'dev_ann'+suffix), format=\"CSV\", fields=fields, skip_header=True)\n",
        "\n",
        "\n",
        "  #Split\n",
        "  #Build vocab on train set  \n",
        "  TXT.build_vocab(trn_data, min_freq=min_freq)\n",
        "\n",
        "  train_iter, val_iter = BucketIterator.splits((trn_data, val_data), \n",
        "                                               batch_size=batch_size, \n",
        "                                               sort_key= lambda x: len(x.text),\n",
        "                                               shuffle=False,\n",
        "                                               repeat=False)\n",
        "  \n",
        "  return train_iter, val_iter, TXT"
      ],
      "execution_count": null,
      "outputs": []
    },
    {
      "cell_type": "code",
      "metadata": {
        "colab": {
          "base_uri": "https://localhost:8080/"
        },
        "id": "wKeLdGDXaajZ",
        "outputId": "adf5869c-d2d5-4b28-bcfb-850b1c73ed55"
      },
      "source": [
        "train_iter, val_iter, txtfield = reader(suffix=\".csv\", min_freq=5)\n",
        "vocab_size = len(txtfield.vocab)\n",
        "\n",
        "print(\"Vocab size = {}\".format(vocab_size))\n",
        "pad = txtfield.vocab.stoi[txtfield.pad_token]\n",
        "\n",
        "print(\"[TRAIN]:%d (dataset:%d)\\t[VAL]:%d (dataset:%d)\\t\"\n",
        "    % (len(train_iter), len(train_iter.dataset),\n",
        "    len(val_iter), len(val_iter.dataset)))\n",
        "print(\"[vocab]:%d\" % (vocab_size))"
      ],
      "execution_count": null,
      "outputs": [
        {
          "output_type": "stream",
          "text": [
            "Vocab size = 27401\n",
            "[TRAIN]:13451 (dataset:107606)\t[VAL]:175 (dataset:1400)\t\n",
            "[vocab]:27401\n"
          ],
          "name": "stdout"
        }
      ]
    },
    {
      "cell_type": "code",
      "metadata": {
        "id": "jq_c8kyMcjwY"
      },
      "source": [
        ""
      ],
      "execution_count": null,
      "outputs": []
    },
    {
      "cell_type": "markdown",
      "metadata": {
        "id": "Ta5KJhJPh_Za"
      },
      "source": [
        "## Basic FFNN"
      ]
    },
    {
      "cell_type": "code",
      "metadata": {
        "id": "_96h_xcjiAvp"
      },
      "source": [
        "class NeuralClassifier(nn.Module):\n",
        "    def __init__(self, vocab_size, embed_size, drop_rate=0.0, class_size=2, pad=1):\n",
        "        super(NeuralClassifier, self).__init__()\n",
        "        \"\"\" Initialization\n",
        "        - vocab_size\n",
        "        - embed_size: word embedding size\n",
        "        - drop_rate: dropout rate\n",
        "        - class_size: number of classes. For binary classification, class_size = 2\n",
        "        \"\"\"\n",
        "        # ---------------------------------\n",
        "        # Configuration\n",
        "        self.vocab_size = vocab_size # size of the vocab\n",
        "        self.class_size = class_size # number of classes\n",
        "        self.dropout = nn.Dropout(drop_rate)\n",
        "        self.pad = pad\n",
        "        # ---------------------------------\n",
        "        # Network parameters\n",
        "        self.embed = nn.Embedding(vocab_size, embed_size, padding_idx=pad)\n",
        "        self.fc = nn.Linear(embed_size, class_size, bias=True)\n",
        "\n",
        "\n",
        "    def forward(self, batch):\n",
        "        \"\"\" Forward function\n",
        "        \"\"\"\n",
        "        input, label = batch.text, batch.label\n",
        "        \n",
        "        # ---------------------------------\n",
        "        # === Hidden layer ===\n",
        "        # Sum over all the embeddings for each input text\n",
        "        #   then, pass through the nonlinear Sigmoid function\n",
        "        x = self.embed(input) # Dim: L x B x E\n",
        "        x = self.dropout(x)\n",
        "        hidden = torch.sigmoid(x.sum(axis=0)) # Dim: B x E\n",
        "        \n",
        "        # ---------------------------------\n",
        "        # === Classification layer ===\n",
        "        logit = self.fc(hidden) # Dim: Batch_size x Class_size\n",
        "        # Normalization\n",
        "        logprob = F.log_softmax(logit, dim=1)\n",
        "        \n",
        "        # ---------------------------------\n",
        "        # === Loss function ===\n",
        "        # Compute negative log-likelihood loss\n",
        "        loss = F.cross_entropy(logprob, label)\n",
        "        return loss, logprob\n"
      ],
      "execution_count": null,
      "outputs": []
    },
    {
      "cell_type": "code",
      "metadata": {
        "id": "YxONJb5ziD6g"
      },
      "source": [
        "\n",
        "def batch_train(batch, model, optimizer):\n",
        "    \"\"\" Training with one batch\n",
        "    - batch: a min-batch of the data\n",
        "    - model: the defined neural network\n",
        "    - optimizer: optimization method used to update the parameters\n",
        "    \"\"\"\n",
        "    # set in training mode\n",
        "    model.train()\n",
        "    # initialize optimizer\n",
        "    optimizer.zero_grad()\n",
        "    # forward: prediction\n",
        "    loss, _ = model(batch)\n",
        "    # backward: gradient computation\n",
        "    loss.backward()\n",
        "    # norm clipping, in case the gradient norm is too large\n",
        "    clip_grad_norm(model.parameters(), grad_clip)\n",
        "    # gradient-based update parameter\n",
        "    optimizer.step()\n",
        "    return model, loss.item()"
      ],
      "execution_count": null,
      "outputs": []
    },
    {
      "cell_type": "code",
      "metadata": {
        "id": "U5HM37YNiF9Y"
      },
      "source": [
        "def eval(data_iter, model):\n",
        "    \"\"\" Evaluate the model with the data\n",
        "    data_iter: the data iterator \n",
        "    model: the defined model\n",
        "    \"\"\"\n",
        "    # set in the eval model, which will trun off the features only used for training, such as droput\n",
        "    model.eval()\n",
        "    # records\n",
        "    val_loss, val_batch = 0, 0\n",
        "    total_example, correct_pred = 0, 0\n",
        "    # iterate all the mini batches for evaluation\n",
        "    for b, batch in enumerate(data_iter):\n",
        "        # Forward: prediction\n",
        "        loss, logprob = model(batch)\n",
        "        # \n",
        "        val_batch += 1\n",
        "        val_loss += loss\n",
        "        # Argmax\n",
        "        max_logprob, pred_label = torch.max(logprob, -1)\n",
        "        correct_pred += (pred_label==batch.label).sum()\n",
        "        total_example += batch.label.size()[0]\n",
        "    acc = (1.0*correct_pred)/total_example\n",
        "    # print(\"val_batch = {}\".format(val_batch))\n",
        "    return (val_loss/val_batch), acc"
      ],
      "execution_count": null,
      "outputs": []
    },
    {
      "cell_type": "code",
      "metadata": {
        "colab": {
          "base_uri": "https://localhost:8080/",
          "height": 1000,
          "referenced_widgets": [
            "96cbd47928bd4531a788828bcb63bd1f",
            "e568813d2e5c4d659bc6afcc94c9af18",
            "64c4463c3b294cb996458c956f4be58b",
            "2489bc1028224327ae6fe00f2e27840a",
            "8691ceffa2d045d7b3d2cd11d6ff1f92",
            "d9ed978371714528801e353c968ee116",
            "3ffd70702cb243dabad2eaec055a2cf5",
            "ce3031cffc8447e687e51094c4037631",
            "71765c9417544477adf6791291d1588a",
            "b72e1efd22014dcd8abc47794b8dcbf6",
            "6ff8073eb1454804804eb2b1d2891e76",
            "7c56f0f5122544f5b03f3b0aa7e0d9e8",
            "dc65b1f3a0ef4516a8054e3dc0d48027",
            "8f9809c2b9ba42468a889231d554987c",
            "57916a7be26f4985a118dd96105c57aa",
            "d8d6c1cf87ae4014b3d8f87d48feb653"
          ]
        },
        "id": "Oc2Q3XlpiHo8",
        "outputId": "fb38eabd-35f3-4daf-ec26-edcb6ca02122"
      },
      "source": [
        "model = NeuralClassifier(vocab_size, embed_size=64, drop_rate=0, class_size=2)\n",
        "\n",
        "optimizer = optim.SGD(model.parameters(), lr=0.001, weight_decay=0)\n",
        "# the norm of grad clipping\n",
        "grad_clip = 1.0\n",
        "\n",
        "# ------------------------------------\n",
        "# 3. Define the numbers of training epochs and validation steps\n",
        "epoch, val_step = 5, 50\n",
        "\n",
        "# ------------------------------------\n",
        "# 4. Training iterations\n",
        "TrnLoss, ValLoss, ValAcc = [], [], []\n",
        "total_batch = 0\n",
        "for e in trange(epoch):\n",
        "    # print(e)\n",
        "    for b, batch in tqdm(enumerate(train_iter)):\n",
        "        total_batch += 1\n",
        "        # Update parameters with one batch\n",
        "        model, loss = batch_train(batch, model, optimizer)\n",
        "        # Compute validation loss after each val_step\n",
        "        if total_batch % val_step == 0:\n",
        "            val_loss, val_acc = eval(val_iter, model)\n",
        "            ValLoss.append(val_loss)\n",
        "            ValAcc.append(val_acc)\n",
        "            print(val_loss.item(), loss)\n",
        "            TrnLoss.append(loss)\n",
        "print(\"The best validation accuracy = {:.4}\".format(max(ValAcc)))"
      ],
      "execution_count": null,
      "outputs": [
        {
          "output_type": "display_data",
          "data": {
            "application/vnd.jupyter.widget-view+json": {
              "model_id": "96cbd47928bd4531a788828bcb63bd1f",
              "version_minor": 0,
              "version_major": 2
            },
            "text/plain": [
              "HBox(children=(FloatProgress(value=0.0, max=5.0), HTML(value='')))"
            ]
          },
          "metadata": {
            "tags": []
          }
        },
        {
          "output_type": "display_data",
          "data": {
            "application/vnd.jupyter.widget-view+json": {
              "model_id": "71765c9417544477adf6791291d1588a",
              "version_minor": 0,
              "version_major": 2
            },
            "text/plain": [
              "HBox(children=(FloatProgress(value=1.0, bar_style='info', max=1.0), HTML(value='')))"
            ]
          },
          "metadata": {
            "tags": []
          }
        },
        {
          "output_type": "stream",
          "text": [
            "0.7259849905967712 0.5181664824485779\n",
            "0.7660607695579529 0.4068308472633362\n",
            "0.8277421593666077 0.3342895209789276\n",
            "0.9083356857299805 0.28421109914779663\n",
            "1.0050609111785889 0.17047050595283508\n",
            "1.108483910560608 0.12410543859004974\n",
            "1.1995041370391846 0.1060321256518364\n",
            "1.2812292575836182 0.1062275692820549\n",
            "1.3528187274932861 0.09899325668811798\n",
            "1.4161514043807983 0.09634970128536224\n",
            "1.4704136848449707 0.05886099115014076\n",
            "1.5206832885742188 0.05574488639831543\n",
            "1.5685018301010132 0.04919278621673584\n",
            "1.6113319396972656 0.04393501579761505\n",
            "1.6540288925170898 0.03821513429284096\n",
            "1.691428780555725 0.03428789600729942\n",
            "1.7261455059051514 0.0298428013920784\n",
            "1.7592607736587524 0.03122178465127945\n",
            "1.7897720336914062 0.027517827227711678\n",
            "1.8194454908370972 0.03467577323317528\n",
            "1.847251534461975 0.027930444106459618\n",
            "1.8744430541992188 0.027495019137859344\n",
            "1.8998764753341675 0.03129817545413971\n",
            "1.9237357378005981 0.024634819477796555\n",
            "1.946794033050537 0.025203874334692955\n",
            "1.969254732131958 0.0271742083132267\n",
            "1.990614891052246 0.018606824800372124\n",
            "2.0116195678710938 0.014691585674881935\n",
            "2.0315213203430176 0.022463208064436913\n",
            "2.050135850906372 0.01843702234327793\n",
            "2.069079875946045 0.019868582487106323\n",
            "2.0860867500305176 0.01561511680483818\n",
            "2.1030542850494385 0.01575513370335102\n",
            "2.119385004043579 0.01445973664522171\n"
          ],
          "name": "stdout"
        },
        {
          "output_type": "error",
          "ename": "KeyboardInterrupt",
          "evalue": "ignored",
          "traceback": [
            "\u001b[0;31m---------------------------------------------------------------------------\u001b[0m",
            "\u001b[0;31mKeyboardInterrupt\u001b[0m                         Traceback (most recent call last)",
            "\u001b[0;32m<ipython-input-65-daa900862473>\u001b[0m in \u001b[0;36m<module>\u001b[0;34m()\u001b[0m\n\u001b[1;32m     18\u001b[0m         \u001b[0mtotal_batch\u001b[0m \u001b[0;34m+=\u001b[0m \u001b[0;36m1\u001b[0m\u001b[0;34m\u001b[0m\u001b[0;34m\u001b[0m\u001b[0m\n\u001b[1;32m     19\u001b[0m         \u001b[0;31m# Update parameters with one batch\u001b[0m\u001b[0;34m\u001b[0m\u001b[0;34m\u001b[0m\u001b[0;34m\u001b[0m\u001b[0m\n\u001b[0;32m---> 20\u001b[0;31m         \u001b[0mmodel\u001b[0m\u001b[0;34m,\u001b[0m \u001b[0mloss\u001b[0m \u001b[0;34m=\u001b[0m \u001b[0mbatch_train\u001b[0m\u001b[0;34m(\u001b[0m\u001b[0mbatch\u001b[0m\u001b[0;34m,\u001b[0m \u001b[0mmodel\u001b[0m\u001b[0;34m,\u001b[0m \u001b[0moptimizer\u001b[0m\u001b[0;34m)\u001b[0m\u001b[0;34m\u001b[0m\u001b[0;34m\u001b[0m\u001b[0m\n\u001b[0m\u001b[1;32m     21\u001b[0m         \u001b[0;31m# Compute validation loss after each val_step\u001b[0m\u001b[0;34m\u001b[0m\u001b[0;34m\u001b[0m\u001b[0;34m\u001b[0m\u001b[0m\n\u001b[1;32m     22\u001b[0m         \u001b[0;32mif\u001b[0m \u001b[0mtotal_batch\u001b[0m \u001b[0;34m%\u001b[0m \u001b[0mval_step\u001b[0m \u001b[0;34m==\u001b[0m \u001b[0;36m0\u001b[0m\u001b[0;34m:\u001b[0m\u001b[0;34m\u001b[0m\u001b[0;34m\u001b[0m\u001b[0m\n",
            "\u001b[0;32m<ipython-input-58-bc2269e5e234>\u001b[0m in \u001b[0;36mbatch_train\u001b[0;34m(batch, model, optimizer)\u001b[0m\n\u001b[1;32m     11\u001b[0m     \u001b[0moptimizer\u001b[0m\u001b[0;34m.\u001b[0m\u001b[0mzero_grad\u001b[0m\u001b[0;34m(\u001b[0m\u001b[0;34m)\u001b[0m\u001b[0;34m\u001b[0m\u001b[0;34m\u001b[0m\u001b[0m\n\u001b[1;32m     12\u001b[0m     \u001b[0;31m# forward: prediction\u001b[0m\u001b[0;34m\u001b[0m\u001b[0;34m\u001b[0m\u001b[0;34m\u001b[0m\u001b[0m\n\u001b[0;32m---> 13\u001b[0;31m     \u001b[0mloss\u001b[0m\u001b[0;34m,\u001b[0m \u001b[0m_\u001b[0m \u001b[0;34m=\u001b[0m \u001b[0mmodel\u001b[0m\u001b[0;34m(\u001b[0m\u001b[0mbatch\u001b[0m\u001b[0;34m)\u001b[0m\u001b[0;34m\u001b[0m\u001b[0;34m\u001b[0m\u001b[0m\n\u001b[0m\u001b[1;32m     14\u001b[0m     \u001b[0;31m# backward: gradient computation\u001b[0m\u001b[0;34m\u001b[0m\u001b[0;34m\u001b[0m\u001b[0;34m\u001b[0m\u001b[0m\n\u001b[1;32m     15\u001b[0m     \u001b[0mloss\u001b[0m\u001b[0;34m.\u001b[0m\u001b[0mbackward\u001b[0m\u001b[0;34m(\u001b[0m\u001b[0;34m)\u001b[0m\u001b[0;34m\u001b[0m\u001b[0;34m\u001b[0m\u001b[0m\n",
            "\u001b[0;32m/usr/local/lib/python3.6/dist-packages/torch/nn/modules/module.py\u001b[0m in \u001b[0;36m_call_impl\u001b[0;34m(self, *input, **kwargs)\u001b[0m\n\u001b[1;32m    725\u001b[0m             \u001b[0mresult\u001b[0m \u001b[0;34m=\u001b[0m \u001b[0mself\u001b[0m\u001b[0;34m.\u001b[0m\u001b[0m_slow_forward\u001b[0m\u001b[0;34m(\u001b[0m\u001b[0;34m*\u001b[0m\u001b[0minput\u001b[0m\u001b[0;34m,\u001b[0m \u001b[0;34m**\u001b[0m\u001b[0mkwargs\u001b[0m\u001b[0;34m)\u001b[0m\u001b[0;34m\u001b[0m\u001b[0;34m\u001b[0m\u001b[0m\n\u001b[1;32m    726\u001b[0m         \u001b[0;32melse\u001b[0m\u001b[0;34m:\u001b[0m\u001b[0;34m\u001b[0m\u001b[0;34m\u001b[0m\u001b[0m\n\u001b[0;32m--> 727\u001b[0;31m             \u001b[0mresult\u001b[0m \u001b[0;34m=\u001b[0m \u001b[0mself\u001b[0m\u001b[0;34m.\u001b[0m\u001b[0mforward\u001b[0m\u001b[0;34m(\u001b[0m\u001b[0;34m*\u001b[0m\u001b[0minput\u001b[0m\u001b[0;34m,\u001b[0m \u001b[0;34m**\u001b[0m\u001b[0mkwargs\u001b[0m\u001b[0;34m)\u001b[0m\u001b[0;34m\u001b[0m\u001b[0;34m\u001b[0m\u001b[0m\n\u001b[0m\u001b[1;32m    728\u001b[0m         for hook in itertools.chain(\n\u001b[1;32m    729\u001b[0m                 \u001b[0m_global_forward_hooks\u001b[0m\u001b[0;34m.\u001b[0m\u001b[0mvalues\u001b[0m\u001b[0;34m(\u001b[0m\u001b[0;34m)\u001b[0m\u001b[0;34m,\u001b[0m\u001b[0;34m\u001b[0m\u001b[0;34m\u001b[0m\u001b[0m\n",
            "\u001b[0;32m<ipython-input-57-8683c234ab91>\u001b[0m in \u001b[0;36mforward\u001b[0;34m(self, batch)\u001b[0m\n\u001b[1;32m     30\u001b[0m         \u001b[0;31m#   then, pass through the nonlinear Sigmoid function\u001b[0m\u001b[0;34m\u001b[0m\u001b[0;34m\u001b[0m\u001b[0;34m\u001b[0m\u001b[0m\n\u001b[1;32m     31\u001b[0m         \u001b[0mx\u001b[0m \u001b[0;34m=\u001b[0m \u001b[0mself\u001b[0m\u001b[0;34m.\u001b[0m\u001b[0membed\u001b[0m\u001b[0;34m(\u001b[0m\u001b[0minput\u001b[0m\u001b[0;34m)\u001b[0m \u001b[0;31m# Dim: L x B x E\u001b[0m\u001b[0;34m\u001b[0m\u001b[0;34m\u001b[0m\u001b[0m\n\u001b[0;32m---> 32\u001b[0;31m         \u001b[0mx\u001b[0m \u001b[0;34m=\u001b[0m \u001b[0mself\u001b[0m\u001b[0;34m.\u001b[0m\u001b[0mdropout\u001b[0m\u001b[0;34m(\u001b[0m\u001b[0mx\u001b[0m\u001b[0;34m)\u001b[0m\u001b[0;34m\u001b[0m\u001b[0;34m\u001b[0m\u001b[0m\n\u001b[0m\u001b[1;32m     33\u001b[0m         \u001b[0mhidden\u001b[0m \u001b[0;34m=\u001b[0m \u001b[0mtorch\u001b[0m\u001b[0;34m.\u001b[0m\u001b[0msigmoid\u001b[0m\u001b[0;34m(\u001b[0m\u001b[0mx\u001b[0m\u001b[0;34m.\u001b[0m\u001b[0msum\u001b[0m\u001b[0;34m(\u001b[0m\u001b[0maxis\u001b[0m\u001b[0;34m=\u001b[0m\u001b[0;36m0\u001b[0m\u001b[0;34m)\u001b[0m\u001b[0;34m)\u001b[0m \u001b[0;31m# Dim: B x E\u001b[0m\u001b[0;34m\u001b[0m\u001b[0;34m\u001b[0m\u001b[0m\n\u001b[1;32m     34\u001b[0m \u001b[0;34m\u001b[0m\u001b[0m\n",
            "\u001b[0;32m/usr/local/lib/python3.6/dist-packages/torch/nn/modules/module.py\u001b[0m in \u001b[0;36m_call_impl\u001b[0;34m(self, *input, **kwargs)\u001b[0m\n\u001b[1;32m    725\u001b[0m             \u001b[0mresult\u001b[0m \u001b[0;34m=\u001b[0m \u001b[0mself\u001b[0m\u001b[0;34m.\u001b[0m\u001b[0m_slow_forward\u001b[0m\u001b[0;34m(\u001b[0m\u001b[0;34m*\u001b[0m\u001b[0minput\u001b[0m\u001b[0;34m,\u001b[0m \u001b[0;34m**\u001b[0m\u001b[0mkwargs\u001b[0m\u001b[0;34m)\u001b[0m\u001b[0;34m\u001b[0m\u001b[0;34m\u001b[0m\u001b[0m\n\u001b[1;32m    726\u001b[0m         \u001b[0;32melse\u001b[0m\u001b[0;34m:\u001b[0m\u001b[0;34m\u001b[0m\u001b[0;34m\u001b[0m\u001b[0m\n\u001b[0;32m--> 727\u001b[0;31m             \u001b[0mresult\u001b[0m \u001b[0;34m=\u001b[0m \u001b[0mself\u001b[0m\u001b[0;34m.\u001b[0m\u001b[0mforward\u001b[0m\u001b[0;34m(\u001b[0m\u001b[0;34m*\u001b[0m\u001b[0minput\u001b[0m\u001b[0;34m,\u001b[0m \u001b[0;34m**\u001b[0m\u001b[0mkwargs\u001b[0m\u001b[0;34m)\u001b[0m\u001b[0;34m\u001b[0m\u001b[0;34m\u001b[0m\u001b[0m\n\u001b[0m\u001b[1;32m    728\u001b[0m         for hook in itertools.chain(\n\u001b[1;32m    729\u001b[0m                 \u001b[0m_global_forward_hooks\u001b[0m\u001b[0;34m.\u001b[0m\u001b[0mvalues\u001b[0m\u001b[0;34m(\u001b[0m\u001b[0;34m)\u001b[0m\u001b[0;34m,\u001b[0m\u001b[0;34m\u001b[0m\u001b[0;34m\u001b[0m\u001b[0m\n",
            "\u001b[0;32m/usr/local/lib/python3.6/dist-packages/torch/nn/modules/dropout.py\u001b[0m in \u001b[0;36mforward\u001b[0;34m(self, input)\u001b[0m\n\u001b[1;32m     56\u001b[0m \u001b[0;34m\u001b[0m\u001b[0m\n\u001b[1;32m     57\u001b[0m     \u001b[0;32mdef\u001b[0m \u001b[0mforward\u001b[0m\u001b[0;34m(\u001b[0m\u001b[0mself\u001b[0m\u001b[0;34m,\u001b[0m \u001b[0minput\u001b[0m\u001b[0;34m:\u001b[0m \u001b[0mTensor\u001b[0m\u001b[0;34m)\u001b[0m \u001b[0;34m->\u001b[0m \u001b[0mTensor\u001b[0m\u001b[0;34m:\u001b[0m\u001b[0;34m\u001b[0m\u001b[0;34m\u001b[0m\u001b[0m\n\u001b[0;32m---> 58\u001b[0;31m         \u001b[0;32mreturn\u001b[0m \u001b[0mF\u001b[0m\u001b[0;34m.\u001b[0m\u001b[0mdropout\u001b[0m\u001b[0;34m(\u001b[0m\u001b[0minput\u001b[0m\u001b[0;34m,\u001b[0m \u001b[0mself\u001b[0m\u001b[0;34m.\u001b[0m\u001b[0mp\u001b[0m\u001b[0;34m,\u001b[0m \u001b[0mself\u001b[0m\u001b[0;34m.\u001b[0m\u001b[0mtraining\u001b[0m\u001b[0;34m,\u001b[0m \u001b[0mself\u001b[0m\u001b[0;34m.\u001b[0m\u001b[0minplace\u001b[0m\u001b[0;34m)\u001b[0m\u001b[0;34m\u001b[0m\u001b[0;34m\u001b[0m\u001b[0m\n\u001b[0m\u001b[1;32m     59\u001b[0m \u001b[0;34m\u001b[0m\u001b[0m\n\u001b[1;32m     60\u001b[0m \u001b[0;34m\u001b[0m\u001b[0m\n",
            "\u001b[0;32m/usr/local/lib/python3.6/dist-packages/torch/nn/functional.py\u001b[0m in \u001b[0;36mdropout\u001b[0;34m(input, p, training, inplace)\u001b[0m\n\u001b[1;32m    981\u001b[0m     return (_VF.dropout_(input, p, training)\n\u001b[1;32m    982\u001b[0m             \u001b[0;32mif\u001b[0m \u001b[0minplace\u001b[0m\u001b[0;34m\u001b[0m\u001b[0;34m\u001b[0m\u001b[0m\n\u001b[0;32m--> 983\u001b[0;31m             else _VF.dropout(input, p, training))\n\u001b[0m\u001b[1;32m    984\u001b[0m \u001b[0;34m\u001b[0m\u001b[0m\n\u001b[1;32m    985\u001b[0m \u001b[0;34m\u001b[0m\u001b[0m\n",
            "\u001b[0;31mKeyboardInterrupt\u001b[0m: "
          ]
        }
      ]
    },
    {
      "cell_type": "code",
      "metadata": {
        "id": "ieiian25iRFI"
      },
      "source": [
        ""
      ],
      "execution_count": null,
      "outputs": []
    }
  ]
}