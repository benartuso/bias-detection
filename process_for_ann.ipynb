{
 "cells": [
  {
   "cell_type": "code",
   "execution_count": 1,
   "metadata": {},
   "outputs": [],
   "source": [
    "import pandas as pd\n",
    "import numpy as np\n",
    "import re"
   ]
  },
  {
   "cell_type": "code",
   "execution_count": null,
   "metadata": {},
   "outputs": [],
   "source": [
    "import glob\n",
    "glob.glob('biaseddata')"
   ]
  },
  {
   "cell_type": "code",
   "execution_count": 30,
   "metadata": {},
   "outputs": [],
   "source": [
    "def read_process_data(train_path, dev_path, test_path):\n",
    "    train = pd.read_csv(train_path, sep='\\t', header=None)\n",
    "    dev = pd.read_csv(dev_path, sep = '\\t', header=None)\n",
    "    test = pd.read_csv(test_path, sep='\\t', header=None)\n",
    "    \n",
    "    print(\"Train length: {}\".format(len(train)))\n",
    "    print(\"Dev length: {}\".format(len(dev)))\n",
    "    print(\"Test length: {}\".format(len(test)))\n",
    "    #Rename columns\n",
    "    train.columns = ['id', 'annot_old', 'annot_new', 'biased', 'unbiased', 'tags', 'roots']\n",
    "    dev.columns = ['id', 'annot_old', 'annot_new', 'biased', 'unbiased', 'tags', 'roots']\n",
    "    test.columns = ['id', 'annot_old', 'annot_new', 'biased', 'unbiased', 'tags', 'roots']\n",
    "    \n",
    "    #Process and recombine training data: \n",
    "    train_biased, dev_biased, test_biased = pd.DataFrame(train.biased), pd.DataFrame(dev.biased), pd.DataFrame(test.biased)\n",
    "    train_unbiased, dev_unbiased, test_unbiased = pd.DataFrame(train.unbiased), pd.DataFrame(dev.unbiased), pd.DataFrame(test.unbiased)\n",
    "    \n",
    "    \n",
    "    train_biased['label'], dev_biased['label'], test_biased['label'] = [1]*len(train_biased), [1]*len(dev_biased), [1]*len(test_biased)\n",
    "    train_unbiased['label'], dev_unbiased['label'], test_unbiased['label'] = [0]*len(train_unbiased), [0]*len(dev_unbiased), [0]*len(test_unbiased)\n",
    "\n",
    "    #Fix colnames\n",
    "    train_biased.columns, dev_biased.columns, test_biased.columns = ['text', 'label'], ['text', 'label'], ['text', 'label']\n",
    "    train_unbiased.columns, dev_unbiased.columns, test_unbiased.columns = ['text', 'label'], ['text', 'label'], ['text', 'label']\n",
    "    #Combine\n",
    "    train_all, dev_all, test_all = pd.concat([train_biased, train_unbiased]), pd.concat([dev_biased, dev_unbiased]), pd.concat([test_biased, test_unbiased])\n",
    "    \n",
    "    return train_all, dev_all, test_all"
   ]
  },
  {
   "cell_type": "code",
   "execution_count": 31,
   "metadata": {},
   "outputs": [
    {
     "name": "stdout",
     "output_type": "stream",
     "text": [
      "Train length: 53803\n",
      "Dev length: 700\n",
      "Test length: 1000\n"
     ]
    }
   ],
   "source": [
    "train, dev, test = read_process_data('bias_data/WNC/biased.word.train', 'bias_data/WNC/biased.word.dev', 'bias_data/WNC/biased.word.test')"
   ]
  },
  {
   "cell_type": "code",
   "execution_count": 32,
   "metadata": {},
   "outputs": [],
   "source": [
    "def strip_punc(s):\n",
    "    return re.sub(\"\\W\", \" \", s).lower()"
   ]
  },
  {
   "cell_type": "code",
   "execution_count": 33,
   "metadata": {},
   "outputs": [],
   "source": [
    "train['strip_text'] = train.text.apply(lambda x: strip_punc(x))\n",
    "dev['strip_text'] = dev.text.apply(lambda x: strip_punc(x))\n",
    "test['strip_text'] = test.text.apply(lambda x: strip_punc(x))"
   ]
  },
  {
   "cell_type": "code",
   "execution_count": 34,
   "metadata": {},
   "outputs": [],
   "source": [
    "train = train[['strip_text', 'label']]\n",
    "dev = dev[['strip_text', 'label']]\n",
    "test = test[['strip_text', 'label']]"
   ]
  },
  {
   "cell_type": "code",
   "execution_count": 35,
   "metadata": {},
   "outputs": [],
   "source": [
    "train.to_csv('processed_data/train_ann.csv', index=False)\n",
    "dev.to_csv('processed_data/dev_ann.csv', index=False)\n",
    "test.to_csv('processed_data/test_ann.csv')"
   ]
  },
  {
   "cell_type": "code",
   "execution_count": 36,
   "metadata": {},
   "outputs": [
    {
     "data": {
      "text/html": [
       "<div>\n",
       "<style scoped>\n",
       "    .dataframe tbody tr th:only-of-type {\n",
       "        vertical-align: middle;\n",
       "    }\n",
       "\n",
       "    .dataframe tbody tr th {\n",
       "        vertical-align: top;\n",
       "    }\n",
       "\n",
       "    .dataframe thead th {\n",
       "        text-align: right;\n",
       "    }\n",
       "</style>\n",
       "<table border=\"1\" class=\"dataframe\">\n",
       "  <thead>\n",
       "    <tr style=\"text-align: right;\">\n",
       "      <th></th>\n",
       "      <th>strip_text</th>\n",
       "      <th>label</th>\n",
       "    </tr>\n",
       "  </thead>\n",
       "  <tbody>\n",
       "    <tr>\n",
       "      <th>0</th>\n",
       "      <td>chloroform  the molecular lifesaver  an articl...</td>\n",
       "      <td>1</td>\n",
       "    </tr>\n",
       "    <tr>\n",
       "      <th>1</th>\n",
       "      <td>the free software gnu classpath project is onl...</td>\n",
       "      <td>1</td>\n",
       "    </tr>\n",
       "    <tr>\n",
       "      <th>2</th>\n",
       "      <td>other campaigners  especially the controversia...</td>\n",
       "      <td>1</td>\n",
       "    </tr>\n",
       "    <tr>\n",
       "      <th>3</th>\n",
       "      <td>vocalist rob halford s performance is consider...</td>\n",
       "      <td>1</td>\n",
       "    </tr>\n",
       "    <tr>\n",
       "      <th>4</th>\n",
       "      <td>the proud general is a chinese animated featur...</td>\n",
       "      <td>1</td>\n",
       "    </tr>\n",
       "  </tbody>\n",
       "</table>\n",
       "</div>"
      ],
      "text/plain": [
       "                                          strip_text  label\n",
       "0  chloroform  the molecular lifesaver  an articl...      1\n",
       "1  the free software gnu classpath project is onl...      1\n",
       "2  other campaigners  especially the controversia...      1\n",
       "3  vocalist rob halford s performance is consider...      1\n",
       "4  the proud general is a chinese animated featur...      1"
      ]
     },
     "execution_count": 36,
     "metadata": {},
     "output_type": "execute_result"
    }
   ],
   "source": [
    "train.head()"
   ]
  },
  {
   "cell_type": "code",
   "execution_count": 37,
   "metadata": {},
   "outputs": [],
   "source": [
    "#Add start and stop tokens. \n",
    "train['strip_text'] = train['strip_text'].apply(lambda x: \"<start> \" + x + \" <stop>\")\n",
    "dev['strip_text'] = dev['strip_text'].apply(lambda x: \"<start> \" + x + \" <stop>\")\n",
    "test['strip_text'] = test['strip_text'].apply(lambda x: \"<start> \"+ x + \" <stop>\")"
   ]
  },
  {
   "cell_type": "code",
   "execution_count": 12,
   "metadata": {},
   "outputs": [],
   "source": []
  },
  {
   "cell_type": "code",
   "execution_count": 38,
   "metadata": {},
   "outputs": [
    {
     "data": {
      "text/plain": [
       "'<start> chloroform  the molecular lifesaver  an article at oxford university providing interesting facts about chloroform  <stop>'"
      ]
     },
     "execution_count": 38,
     "metadata": {},
     "output_type": "execute_result"
    }
   ],
   "source": [
    "train.strip_text[0].iloc[0]"
   ]
  },
  {
   "cell_type": "code",
   "execution_count": 39,
   "metadata": {},
   "outputs": [],
   "source": [
    "train = train[['strip_text', 'label']]\n",
    "dev = dev[['strip_text', 'label']]\n",
    "test = test[['strip_text', 'label']]"
   ]
  },
  {
   "cell_type": "code",
   "execution_count": 40,
   "metadata": {},
   "outputs": [],
   "source": [
    "train.to_csv('processed_data/train_lstm.csv', index=False)\n",
    "dev.to_csv('processed_data/dev_lstm.csv', index=False)\n",
    "test.to_csv('processed_data/test_lstm.csv')"
   ]
  },
  {
   "cell_type": "code",
   "execution_count": 43,
   "metadata": {},
   "outputs": [
    {
     "data": {
      "text/html": [
       "<div>\n",
       "<style scoped>\n",
       "    .dataframe tbody tr th:only-of-type {\n",
       "        vertical-align: middle;\n",
       "    }\n",
       "\n",
       "    .dataframe tbody tr th {\n",
       "        vertical-align: top;\n",
       "    }\n",
       "\n",
       "    .dataframe thead th {\n",
       "        text-align: right;\n",
       "    }\n",
       "</style>\n",
       "<table border=\"1\" class=\"dataframe\">\n",
       "  <thead>\n",
       "    <tr style=\"text-align: right;\">\n",
       "      <th></th>\n",
       "      <th>strip_text</th>\n",
       "      <th>label</th>\n",
       "    </tr>\n",
       "  </thead>\n",
       "  <tbody>\n",
       "    <tr>\n",
       "      <th>107586</th>\n",
       "      <td>&lt;start&gt; the usb 3 0 computer cable standard ha...</td>\n",
       "      <td>0</td>\n",
       "    </tr>\n",
       "    <tr>\n",
       "      <th>107587</th>\n",
       "      <td>&lt;start&gt; alfredo oliva   concert comedian   con...</td>\n",
       "      <td>0</td>\n",
       "    </tr>\n",
       "    <tr>\n",
       "      <th>107588</th>\n",
       "      <td>&lt;start&gt; uak was occupied by the greek army bet...</td>\n",
       "      <td>0</td>\n",
       "    </tr>\n",
       "    <tr>\n",
       "      <th>107589</th>\n",
       "      <td>&lt;start&gt; karen taylor  comedian   born 1979   b...</td>\n",
       "      <td>0</td>\n",
       "    </tr>\n",
       "    <tr>\n",
       "      <th>107590</th>\n",
       "      <td>&lt;start&gt; babylon 5 is an american science ficti...</td>\n",
       "      <td>0</td>\n",
       "    </tr>\n",
       "    <tr>\n",
       "      <th>107591</th>\n",
       "      <td>&lt;start&gt; these books are considered to be part ...</td>\n",
       "      <td>0</td>\n",
       "    </tr>\n",
       "    <tr>\n",
       "      <th>107592</th>\n",
       "      <td>&lt;start&gt; in terms of public transport  cumberna...</td>\n",
       "      <td>0</td>\n",
       "    </tr>\n",
       "    <tr>\n",
       "      <th>107593</th>\n",
       "      <td>&lt;start&gt; like the rest of nature  man s mind is...</td>\n",
       "      <td>0</td>\n",
       "    </tr>\n",
       "    <tr>\n",
       "      <th>107594</th>\n",
       "      <td>&lt;start&gt; the band are popular for their 3d anim...</td>\n",
       "      <td>0</td>\n",
       "    </tr>\n",
       "    <tr>\n",
       "      <th>107595</th>\n",
       "      <td>&lt;start&gt; al najah secondary school is a seconda...</td>\n",
       "      <td>0</td>\n",
       "    </tr>\n",
       "    <tr>\n",
       "      <th>107596</th>\n",
       "      <td>&lt;start&gt; joaqun archivaldo guzmn loera    sinal...</td>\n",
       "      <td>0</td>\n",
       "    </tr>\n",
       "    <tr>\n",
       "      <th>107597</th>\n",
       "      <td>&lt;start&gt; ephesians 6 5 was used by confederate ...</td>\n",
       "      <td>0</td>\n",
       "    </tr>\n",
       "    <tr>\n",
       "      <th>107598</th>\n",
       "      <td>&lt;start&gt; edith marie blossom macdonald  august ...</td>\n",
       "      <td>0</td>\n",
       "    </tr>\n",
       "    <tr>\n",
       "      <th>107599</th>\n",
       "      <td>&lt;start&gt; cone is controversial  because he supp...</td>\n",
       "      <td>0</td>\n",
       "    </tr>\n",
       "    <tr>\n",
       "      <th>107600</th>\n",
       "      <td>&lt;start&gt; in april 2008  acting virgin ceo neil ...</td>\n",
       "      <td>0</td>\n",
       "    </tr>\n",
       "    <tr>\n",
       "      <th>107601</th>\n",
       "      <td>&lt;start&gt; the national lawyers guild is a progre...</td>\n",
       "      <td>0</td>\n",
       "    </tr>\n",
       "    <tr>\n",
       "      <th>107602</th>\n",
       "      <td>&lt;start&gt; a plan to redevelop the old tiger stad...</td>\n",
       "      <td>0</td>\n",
       "    </tr>\n",
       "    <tr>\n",
       "      <th>107603</th>\n",
       "      <td>&lt;start&gt; instrumentally  lifeson is regarded as...</td>\n",
       "      <td>0</td>\n",
       "    </tr>\n",
       "    <tr>\n",
       "      <th>107604</th>\n",
       "      <td>&lt;start&gt; flynt joined the us army in 1958 at on...</td>\n",
       "      <td>0</td>\n",
       "    </tr>\n",
       "    <tr>\n",
       "      <th>107605</th>\n",
       "      <td>&lt;start&gt; today  mtv2 airs a selection music vid...</td>\n",
       "      <td>0</td>\n",
       "    </tr>\n",
       "  </tbody>\n",
       "</table>\n",
       "</div>"
      ],
      "text/plain": [
       "                                               strip_text  label\n",
       "107586  <start> the usb 3 0 computer cable standard ha...      0\n",
       "107587  <start> alfredo oliva   concert comedian   con...      0\n",
       "107588  <start> uak was occupied by the greek army bet...      0\n",
       "107589  <start> karen taylor  comedian   born 1979   b...      0\n",
       "107590  <start> babylon 5 is an american science ficti...      0\n",
       "107591  <start> these books are considered to be part ...      0\n",
       "107592  <start> in terms of public transport  cumberna...      0\n",
       "107593  <start> like the rest of nature  man s mind is...      0\n",
       "107594  <start> the band are popular for their 3d anim...      0\n",
       "107595  <start> al najah secondary school is a seconda...      0\n",
       "107596  <start> joaqun archivaldo guzmn loera    sinal...      0\n",
       "107597  <start> ephesians 6 5 was used by confederate ...      0\n",
       "107598  <start> edith marie blossom macdonald  august ...      0\n",
       "107599  <start> cone is controversial  because he supp...      0\n",
       "107600  <start> in april 2008  acting virgin ceo neil ...      0\n",
       "107601  <start> the national lawyers guild is a progre...      0\n",
       "107602  <start> a plan to redevelop the old tiger stad...      0\n",
       "107603  <start> instrumentally  lifeson is regarded as...      0\n",
       "107604  <start> flynt joined the us army in 1958 at on...      0\n",
       "107605  <start> today  mtv2 airs a selection music vid...      0"
      ]
     },
     "execution_count": 43,
     "metadata": {},
     "output_type": "execute_result"
    }
   ],
   "source": [
    "df = pd.read_csv('processed_data/train_lstm.csv')\n",
    "df.tail(20)"
   ]
  },
  {
   "cell_type": "code",
   "execution_count": null,
   "metadata": {
    "collapsed": true
   },
   "outputs": [],
   "source": []
  }
 ],
 "metadata": {
  "kernelspec": {
   "display_name": "Python 3",
   "language": "python",
   "name": "python3"
  },
  "language_info": {
   "codemirror_mode": {
    "name": "ipython",
    "version": 3
   },
   "file_extension": ".py",
   "mimetype": "text/x-python",
   "name": "python",
   "nbconvert_exporter": "python",
   "pygments_lexer": "ipython3",
   "version": "3.7.3"
  }
 },
 "nbformat": 4,
 "nbformat_minor": 4
}
